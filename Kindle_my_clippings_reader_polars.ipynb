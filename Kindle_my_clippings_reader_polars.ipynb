{
  "cells": [
    {
      "attachments": {},
      "cell_type": "markdown",
      "metadata": {
        "id": "blqbzt_cDWxI"
      },
      "source": [
        "Polars version of `Kindle_my_clippings_reader.ipynb`.\n",
        "\n",
        "---\n",
        "This is version 2, updated to handle the multi-line quotes in the Kindle Scribe and Paperwhite. Thanks to Alexander Beedie and Julian Cologne for their Github assistance on a read_csv() misadventure (https://github.com/pola-rs/polars/issues/14300). Unfortunately, I was not able to use Alexander Beedie's elegant polars script as it assumes fixed line lengths (which the Scribe and then Paperwhite broke with their irregular line lengths).\n",
        "\n",
        "Lessons:\n",
        "1. read_csv() is a hack that requires the ideal separator, \"/x08\": this backspace/delete command works brilliantly (but I used read_table() instead).\n",
        "2. pd.read_table() updated in version 2 seems to work and does not need a choice of the right separator\n",
        "3. asking chatGPT was a mistake (it suggested read_csv())\n",
        "4. polars was dangerous because my inept read_csv() worked without error message but failed to load the entire file! read_csv() in pandas threw up error messages--which points to why polars failed to read the whole file; fortunately, I double checked, eventually, the dataframe and noticed the missing rows\n",
        "5. what I thought was a .unique() error was in fact the polars script failing to account for non-fixed length categories (an old problem); hence my verbose and convoluted old algo is still needed; always check the full printout (even if thousands of items long)\n",
        "6. the Pandas version is just as fast as the polars version in real life\n",
        "\n",
        "-pandas, polars, cupy\n",
        "\n",
        "(py310 conda env)"
      ]
    },
    {
      "cell_type": "code",
      "execution_count": 1,
      "metadata": {
        "colab": {
          "base_uri": "https://localhost:8080/",
          "height": 476
        },
        "id": "R5Xgw7Z0DWxK",
        "outputId": "0749874c-fd87-4fa8-90b2-3eb6648ab5fd"
      },
      "outputs": [
        {
          "name": "stderr",
          "output_type": "stream",
          "text": [
            "/var/home/fraser/anaconda3/envs/py310/lib/python3.10/site-packages/pandas/core/arrays/masked.py:60: UserWarning: Pandas requires version '1.3.6' or newer of 'bottleneck' (version '1.3.5' currently installed).\n",
            "  from pandas.core import (\n"
          ]
        },
        {
          "data": {
            "text/html": [
              "<div><style>\n",
              ".dataframe > thead > tr,\n",
              ".dataframe > tbody > tr {\n",
              "  text-align: right;\n",
              "  white-space: pre-wrap;\n",
              "}\n",
              "</style>\n",
              "<small>shape: (10_574, 1)</small><table border=\"1\" class=\"dataframe\"><thead><tr><th>column_1</th></tr><tr><td>str</td></tr></thead><tbody><tr><td>&quot;As Twitter destroys its brand by renaming itself X, Mastodon user numbers are again soaring _ TechCrunch (techcrunch.com)&quot;</td></tr><tr><td>&quot;- Your Highlight on Location 12-12 | Added on Thursday, August 17, 2023 12:13:47 PM&quot;</td></tr><tr><td>&quot;reached 2.1 million&quot;</td></tr><tr><td>&quot;==========&quot;</td></tr><tr><td>&quot;These Are the Plunderers: How Private Equity Runs—and Wrecks—America: How Private Equity Runs—and Wrecks—America (Gretchen Morgenson;Joshua Rosner)&quot;</td></tr><tr><td>&hellip;</td></tr><tr><td>&quot;==========&quot;</td></tr><tr><td>&quot;barrons 05-02-2024 (Nook) (NewspaperDirect)&quot;</td></tr><tr><td>&quot;- Your Highlight on page 169 | Location 1556-1557 | Added on Saturday, February 3, 2024 3:32:45 PM&quot;</td></tr><tr><td>&quot;Nvidia, the fund’s single largest position, are up another 25% so far in 2024. Curtis sees more gains ahead for both the stock and the sector, driven by his aggressively bullish view on artificial intelligence.&quot;</td></tr><tr><td>&quot;==========&quot;</td></tr></tbody></table></div>"
            ],
            "text/plain": [
              "shape: (10_574, 1)\n",
              "┌──────────────────────────────────────────────────────────────────────────────────────────────────┐\n",
              "│ column_1                                                                                         │\n",
              "│ ---                                                                                              │\n",
              "│ str                                                                                              │\n",
              "╞══════════════════════════════════════════════════════════════════════════════════════════════════╡\n",
              "│ As Twitter destroys its brand by renaming itself X, Mastodon user numbers are again soaring _    │\n",
              "│ TechCrunch (techcrunch.com)                                                                      │\n",
              "│ - Your Highlight on Location 12-12 | Added on Thursday, August 17, 2023 12:13:47 PM              │\n",
              "│ reached 2.1 million                                                                              │\n",
              "│ ==========                                                                                       │\n",
              "│ These Are the Plunderers: How Private Equity Runs—and Wrecks—America: How Private Equity         │\n",
              "│ Runs—and Wrecks—America (Gretchen Morgenson;Joshua Rosner)                                       │\n",
              "│ …                                                                                                │\n",
              "│ ==========                                                                                       │\n",
              "│ barrons 05-02-2024 (Nook) (NewspaperDirect)                                                      │\n",
              "│ - Your Highlight on page 169 | Location 1556-1557 | Added on Saturday, February 3, 2024 3:32:45  │\n",
              "│ PM                                                                                               │\n",
              "│ Nvidia, the fund’s single largest position, are up another 25% so far in 2024. Curtis sees more  │\n",
              "│ gains ahead for both the stock and the sector, driven by his aggressively bullish view on        │\n",
              "│ artificial intelligence.                                                                         │\n",
              "│ ==========                                                                                       │\n",
              "└──────────────────────────────────────────────────────────────────────────────────────────────────┘"
            ]
          },
          "metadata": {},
          "output_type": "display_data"
        }
      ],
      "source": [
        "import pandas as pd\n",
        "import polars as pl\n",
        "import cupy as np\n",
        "kindle_clipping_file=\"My Clippings scribe.txt\"\n",
        "pd.options.mode.string_storage = \"pyarrow\"\n",
        "\n",
        "# fixes the naive polars read_csv issue but version 3 of this notebook is better\n",
        "datapd = pd.read_table(kindle_clipping_file, header=None)\n",
        "\n",
        "# Convert the pandas DataFrame to a Polars DataFrame\n",
        "data = pl.from_pandas(datapd)\n",
        "# must rename pandas column 0 to column_1 for the next section below\n",
        "data = data.rename({\"0\": \"column_1\"})\n",
        "#data = pl.read_csv(kindle_clipping_file, columns=[0], has_header=False)\n",
        "with pl.Config(fmt_str_lengths=500, tbl_rows=10):\n",
        "    display(data)"
      ]
    },
    {
      "cell_type": "code",
      "execution_count": 2,
      "metadata": {},
      "outputs": [],
      "source": [
        "# ai suggestion modified:\n",
        "\n",
        "def categorize_dataframe(df):\n",
        "\n",
        "    # Initialize empty df to store the values\n",
        "    source = pl.DataFrame({\n",
        "        'source': [\"\"]\n",
        "    })\n",
        "\n",
        "    reference = pl.DataFrame({\n",
        "        'reference': [\"\"]\n",
        "    })\n",
        "\n",
        "    quote = pl.DataFrame({\n",
        "        'quote': ['']\n",
        "    })\n",
        "\n",
        "\n",
        "    # Initialize a counter\n",
        "    counter = 0\n",
        "    quote_count = 0\n",
        "    holder = \"\"\n",
        "\n",
        "\n",
        "    # go through dataframe to extract source, reference and quote\n",
        "    for value in data['column_1']:\n",
        "\n",
        "        # deal with empty quote line\n",
        "        if counter == 2: \n",
        "            if value == '==========':\n",
        "\n",
        "                new_row = pl.DataFrame({\n",
        "                    'quote': [\"\"]\n",
        "                })\n",
        "                quote = quote.vstack(new_row)\n",
        "\n",
        "\n",
        "        #######################################################\n",
        "        # normal operations:\n",
        "\n",
        "        if counter == 0:\n",
        "            new_row = pl.DataFrame({\n",
        "                'source': [value]\n",
        "            })\n",
        "            new_row = new_row.with_columns(new_row[\"source\"].cast(pl.datatypes.Utf8))\n",
        "            source = source.vstack(new_row)\n",
        "            counter += 1\n",
        "            \n",
        "        elif counter == 1:\n",
        "            new_row = pl.DataFrame({\n",
        "                'reference': [value]\n",
        "            })\n",
        "            new_row = new_row.with_columns(new_row[\"reference\"].cast(pl.datatypes.Utf8))\n",
        "            reference = reference.vstack(new_row)\n",
        "            counter += 1\n",
        "            \n",
        "        else:\n",
        "            # for quote, need to handle multi line quotes, combine them to one line\n",
        "            # otherwise they cannot be joined with other columns\n",
        "\n",
        "            if not (value == '=========='):\n",
        "                quote_count +=1\n",
        "                # combine strings to holder\n",
        "                # needed str(holder) + str(value) instead of holder + str\n",
        "                # because rapids threw up error about empty str\n",
        "                # but no error on py310 conda env!\n",
        "                holder = str(holder) + str(value)\n",
        "                # print(holder, quote_count)\n",
        "                list_holder = holder[:]\n",
        "                new_row = pl.DataFrame({\n",
        "                    'quote': [list_holder]\n",
        "                })\n",
        "                new_row = new_row.with_columns(new_row[\"quote\"].cast(pl.datatypes.Utf8))\n",
        "\n",
        "                # update quote normally if quote_count is not > 1:\n",
        "                if quote_count == 1:\n",
        "                    quote = quote.vstack(new_row)\n",
        "\n",
        "                # if multiline and quote_count > 1: slice off last row before updating\n",
        "                elif quote_count > 1:\n",
        "                    # print(list_holder, quote_count)\n",
        "                    # update previous row to avoid duplication\n",
        "                    quote = quote[:-1]\n",
        "                    quote = quote.vstack(new_row)\n",
        "                \n",
        "                counter += 1\n",
        "                \n",
        "                    \n",
        "            else:   # hit delimiter '==========='\n",
        "                quote_count = 0\n",
        "                #counter += 1\n",
        "\n",
        "        ################################################\n",
        "        if value == '==========':\n",
        "            counter = 0\n",
        "            holder = \"\"\n",
        "            continue\n",
        "    \n",
        "\n",
        "    # combine source, reference, quote into new_df\n",
        "    new_df = source[1:].hstack(reference[1:])\n",
        "    new_df = new_df.hstack(quote[1:])\n",
        "    return new_df\n",
        "\n",
        "\n",
        "new_df = categorize_dataframe(data)\n"
      ]
    },
    {
      "cell_type": "code",
      "execution_count": 3,
      "metadata": {},
      "outputs": [
        {
          "data": {
            "text/html": [
              "<div><style>\n",
              ".dataframe > thead > tr,\n",
              ".dataframe > tbody > tr {\n",
              "  text-align: right;\n",
              "  white-space: pre-wrap;\n",
              "}\n",
              "</style>\n",
              "<small>shape: (2_642, 3)</small><table border=\"1\" class=\"dataframe\"><thead><tr><th>source</th><th>reference</th><th>quote</th></tr><tr><td>str</td><td>str</td><td>str</td></tr></thead><tbody><tr><td>&quot;As Twitter destroys its brand by renaming itself X, Mastodon user numbers are again soaring _ TechCrunch (techcrunch.com)&quot;</td><td>&quot;- Your Highlight on Location 12-12 | Added on Thursday, August 17, 2023 12:13:47 PM&quot;</td><td>&quot;reached 2.1 million&quot;</td></tr><tr><td>&quot;These Are the Plunderers: How Private Equity Runs—and Wrecks—America: How Private Equity Runs—and Wrecks—America (Gretchen Morgenson;Joshua Rosner)&quot;</td><td>&quot;- Your Highlight on page 142 | Location 2164-2166 | Added on Thursday, August 17, 2023 1:27:30 PM&quot;</td><td>&quot;The GNC trade generated more than 100 percent profit to Apollo. Then the retailer issued shares to the public in 2011, allowing Ares to exit. GNC’s operations declined and it filed for bankruptcy in 2020.&quot;</td></tr><tr><td>&quot;These Are the Plunderers: How Private Equity Runs—and Wrecks—America: How Private Equity Runs—and Wrecks—America (Gretchen Morgenson;Joshua Rosner)&quot;</td><td>&quot;- Your Highlight on page 142 | Location 2175-2176 | Added on Thursday, August 17, 2023 1:28:06 PM&quot;</td><td>&quot;Boom times ended with a hard stop in 2008, when the real estate mania collapsed and investors began to understand how pernicious the banks’ mortgage misdeeds had been. After peaking in October 2007, the stock market was trending down.&quot;</td></tr><tr><td>&quot;These Are the Plunderers: How Private Equity Runs—and Wrecks—America: How Private Equity Runs—and Wrecks—America (Gretchen Morgenson;Joshua Rosner)&quot;</td><td>&quot;- Your Highlight on page 227 | Location 3475-3478 | Added on Thursday, August 17, 2023 1:35:12 PM&quot;</td><td>&quot;Another former worker at the facility reported that management repeatedly put off repairs to keep costs low, including failing to repair a roof leak properly for five years. “A lot of times we’d have to close the dining room because we were afraid the Sheetrock would fall on somebody,” he said. “For a couple of years, it had a tarp over that section. It seemed like if you’re going run that type of business, you have to have a dry place for your residents.”&quot;</td></tr><tr><td>&quot;These Are the Plunderers: How Private Equity Runs—and Wrecks—America: How Private Equity Runs—and Wrecks—America (Gretchen Morgenson;Joshua Rosner)&quot;</td><td>&quot;- Your Highlight on page 228 | Location 3486-3488 | Added on Thursday, August 17, 2023 1:35:56 PM&quot;</td><td>&quot;“It’s a horrific thing to ask the family member to do,” Chicotel said. But restraining orders are common in nursing homes, especially when family members point out deficiencies in care, he added. “When visitors are concerned about care their loved one is getting, staff or management will see the resident is targeted as challenging,”&quot;</td></tr><tr><td>&quot;These Are the Plunderers: How Private Equity Runs—and Wrecks—America: How Private Equity Runs—and Wrecks—America (Gretchen Morgenson;Joshua Rosner)&quot;</td><td>&quot;- Your Highlight on page 231 | Location 3529-3531 | Added on Thursday, August 17, 2023 1:38:29 PM&quot;</td><td>&quot;“Even when you say something is unsafe there’s little change that comes out of it,” Sprague said of her privateer managers. “If there’s a profit in it, then they’ll do it. They’re not going to do a single thing that doesn’t benefit them, first and foremost.”&quot;</td></tr><tr><td>&quot;These Are the Plunderers: How Private Equity Runs—and Wrecks—America: How Private Equity Runs—and Wrecks—America (Gretchen Morgenson;Joshua Rosner)&quot;</td><td>&quot;- Your Highlight on page 232 | Location 3543-3544 | Added on Thursday, August 17, 2023 1:39:26 PM&quot;</td><td>&quot;Once the privateers recognized that the Federal Reserve Board stood ready to bail them out of bad trades, they returned to the trough. With a vengeance.&quot;</td></tr><tr><td>&quot;China’s property crash is becoming more dangerous by the day (www.telegraph.co.uk)&quot;</td><td>&quot;- Your Highlight on Location 13-14 | Added on Thursday, August 17, 2023 2:29:15 PM&quot;</td><td>&quot;Cai Fang, a rate-setter at the central bank, has called for a $550bn blast of helicopter money – or high-powered QE injected into the veins of the economy – in order to stop a deflationary psychology taking hold as frightened households retrench.&quot;</td></tr><tr><td>&quot;China’s property crash is becoming more dangerous by the day (www.telegraph.co.uk)&quot;</td><td>&quot;- Your Highlight on Location 22-24 | Added on Thursday, August 17, 2023 2:29:45 PM&quot;</td><td>&quot;The effect is to bludgeon a eurozone economy already in a deep industrial recession. The cheaper the yuan, the greater the tsunami of Chinese electric vehicles, machinery, or wind turbines, heading for Europe.&quot;</td></tr><tr><td>&quot;China’s property crash is becoming more dangerous by the day (www.telegraph.co.uk)&quot;</td><td>&quot;- Your Highlight on Location 25-27 | Added on Thursday, August 17, 2023 2:30:05 PM&quot;</td><td>&quot;The Chinese endured draconian lockdowns for three years with far less support. The damage has undermined the finances of millions of small family businesses. A large chunk of the population has slashed spending in order to rebuild depleted savings.&quot;</td></tr><tr><td>&quot;China’s property crash is becoming more dangerous by the day (www.telegraph.co.uk)&quot;</td><td>&quot;- Your Highlight on Location 28-28 | Added on Thursday, August 17, 2023 2:31:31 PM&quot;</td><td>&quot;great Communist debt bubble,&quot;</td></tr><tr><td>&quot;China’s property crash is becoming more dangerous by the day (www.telegraph.co.uk)&quot;</td><td>&quot;- Your Highlight on Location 29-31 | Added on Thursday, August 17, 2023 2:31:42 PM&quot;</td><td>&quot;The giant developer Country Garden, with total liabilities of $200bn, is days away from default after missing payments on dollar loans issued in Hong Kong.&quot;</td></tr><tr><td>&quot;China’s property crash is becoming more dangerous by the day (www.telegraph.co.uk)&quot;</td><td>&quot;- Your Highlight on Location 35-35 | Added on Thursday, August 17, 2023 2:32:28 PM&quot;</td><td>&quot;“We believe the Chinese economy is faced with an imminent downward spiral with the worst yet to come,”&quot;</td></tr><tr><td>&quot;China’s property crash is becoming more dangerous by the day (www.telegraph.co.uk)&quot;</td><td>&quot;- Your Highlight on Location 38-41 | Added on Thursday, August 17, 2023 2:32:48 PM&quot;</td><td>&quot;China’s $60 trillion property edifice is by far the largest asset class in the world.  It accounts for half of the world’s entire property sales, an astonishing figure given that China’s workforce is already contracting and net migration from the countryside has stopped.&quot;</td></tr><tr><td>&quot;China’s property crash is becoming more dangerous by the day (www.telegraph.co.uk)&quot;</td><td>&quot;- Your Highlight on Location 41-42 | Added on Thursday, August 17, 2023 2:33:36 PM&quot;</td><td>&quot;The developers have debts of $5 trillion. By comparison, this is six times greater than America’s $800bn subprime property debt on the eve of the Lehman crisis.&quot;</td></tr><tr><td>&hellip;</td><td>&hellip;</td><td>&hellip;</td></tr><tr><td>&quot;Financial Times - calibre (calibre)&quot;</td><td>&quot;- Your Highlight on Location 613-614 | Added on Friday, February 2, 2024 2:45:18 PM&quot;</td><td>&quot;“Many clients are in the process of selling properties, second homes, or homes overseas but the market’s a bit glued up at the moment and deals are taking longer.”&quot;</td></tr><tr><td>&quot;Financial Times - calibre (calibre)&quot;</td><td>&quot;- Your Highlight on Location 627-628 | Added on Friday, February 2, 2024 2:46:18 PM&quot;</td><td>&quot;“The credit check is on the item we’re lending on,” says Tannahill. “The worst that’s going to happen to you is that you’ll lose the item.” This, he says, happens in fewer than 5 per cent of cases.&quot;</td></tr><tr><td>&quot;Financial Times - calibre (calibre)&quot;</td><td>&quot;- Your Highlight on Location 634-637 | Added on Friday, February 2, 2024 2:46:45 PM&quot;</td><td>&quot;However, cost of living pressures have tarnished the other side of the pawnbroking industry’s coin — the resale value of forfeited watches and jewellery. Regardless of their income level, consumers are less willing to spend their money on bling. This is being evidenced on the high street and in the secondary market for fancy watches, where average prices have fallen for seven straight quarters.&quot;</td></tr><tr><td>&quot;Financial Times - calibre (calibre)&quot;</td><td>&quot;- Your Highlight on Location 865-867 | Added on Friday, February 2, 2024 2:49:42 PM&quot;</td><td>&quot;Chief among the obstacles are funding costs and exposure to the troubled commercial real estate sector. The 44 per cent collapse in New York Community Bancorp’s share price this week is a reminder of how tough navigating these two roadblocks will be.&quot;</td></tr><tr><td>&quot;barrons 05-02-2024 (Nook) (NewspaperDirect)&quot;</td><td>&quot;- Your Highlight on page 13 | Location 83-84 | Added on Saturday, February 3, 2024 1:11:05 PM&quot;</td><td>&quot;The numbers were a blowout, with nonfarm payrolls expanding by 353,000, twice what economists had forecast, while average hourly earnings jumped by 0.6% in the month and 4.5% from a year ago. Revisions to the two preceding months’ payrolls added another 126,000.&quot;</td></tr><tr><td>&quot;Financial Times - calibre (calibre)&quot;</td><td>&quot;- Your Highlight on page 77 | Location 786-789 | Added on Saturday, February 3, 2024 3:04:29 PM&quot;</td><td>&quot;Most immediately, the liquidation process is set to highlight the sparse legal protection afforded to offshore investors in Chinese assets. A raft of competing international and domestic claims on Evergrande assets bedevils the restructuring of a company with more than $300bn in liabilities.&quot;</td></tr><tr><td>&quot;Financial Times - calibre (calibre)&quot;</td><td>&quot;- Your Highlight on page 77 | Location 790-793 | Added on Saturday, February 3, 2024 3:04:49 PM&quot;</td><td>&quot;More broadly, it stands as a test of Hong Kong’s authority with mainland China. It is not clear to what extent — if at all — local government entities, courts and creditors across the mainland will acquiesce to orders from Hong Kong to transfer assets they currently possess to a liquidator.&quot;</td></tr><tr><td>&quot;Financial Times - calibre (calibre)&quot;</td><td>&quot;- Your Highlight on page 78 | Location 802-804 | Added on Saturday, February 3, 2024 3:05:52 PM&quot;</td><td>&quot;One of these is that Chinese developers listed both in the mainland and offshore may lack the money to deliver at least some of their unfinished housing units, which Gavekal Dragonomics, a consultancy, has valued at Rmb7.5tn ($1tn).&quot;</td></tr><tr><td>&quot;Financial Times - calibre (calibre)&quot;</td><td>&quot;- Your Highlight on page 78 | Location 804-806 | Added on Saturday, February 3, 2024 3:06:06 PM&quot;</td><td>&quot;Another risk is that financially-strapped developers may be unable to pay their suppliers. Here again, the numbers are huge: listed developers collectively owed Rmb3.4tn in payables to their suppliers as of mid-2023, according to Gavekal.&quot;</td></tr><tr><td>&quot;Financial Times - calibre (calibre)&quot;</td><td>&quot;- Your Highlight on page 79 | Location 811-815 | Added on Saturday, February 3, 2024 3:06:21 PM&quot;</td><td>&quot;By several yardsticks, China’s weaknesses appear more pronounced than those of Japan some 30 years ago. The vacancy rate for urban residential property is around 20 per cent in China, more than double the 9 per cent in Japan in 1990, according to Goldman Sachs research. Housing prices are at around 20 times household income, compared with 11 times in Japan in 1990, Goldman Sachs added.&quot;</td></tr><tr><td>&quot;Financial Times - calibre (calibre)&quot;</td><td>&quot;- Your Highlight on page 80 | Location 818-819 | Added on Saturday, February 3, 2024 3:07:29 PM&quot;</td><td>&quot;it is far from clear that Xi is as focused on promoting economic growth as he is on ensuring China’s security and technological progress.&quot;</td></tr><tr><td>&quot;Financial Times - calibre (calibre)&quot;</td><td>&quot;- Your Highlight on Location 1756-1758 | Added on Saturday, February 3, 2024 3:27:32 PM&quot;</td><td>&quot;Chinese authorities’ promise of “forceful” measures last week was their most vocal attempt yet to halt a stock market sell-off that has wiped out almost $2tn in value. For many investors at a Goldman Sachs conference in Hong Kong, that vow was too little, too late.&quot;</td></tr><tr><td>&quot;Financial Times - calibre (calibre)&quot;</td><td>&quot;- Your Highlight on Location 1768-1770 | Added on Saturday, February 3, 2024 3:28:00 PM&quot;</td><td>&quot;As a result, the benchmark MSCI China stock index is now down more than 60 per cent from its peak of early 2021, reflecting a loss of more than $1.9tn in market capitalisation over that period.&quot;</td></tr><tr><td>&quot;Financial Times - calibre (calibre)&quot;</td><td>&quot;- Your Highlight on Location 1772-1774 | Added on Saturday, February 3, 2024 3:28:18 PM&quot;</td><td>&quot;That is a stark contrast to attitudes towards China from just a few years ago, when foreign investors feared they would miss out on the country’s rapid economic growth and domestic consumption turbocharged by rapidly expanding ecommerce platforms.&quot;</td></tr><tr><td>&quot;barrons 05-02-2024 (Nook) (NewspaperDirect)&quot;</td><td>&quot;- Your Highlight on page 169 | Location 1556-1557 | Added on Saturday, February 3, 2024 3:32:45 PM&quot;</td><td>&quot;Nvidia, the fund’s single largest position, are up another 25% so far in 2024. Curtis sees more gains ahead for both the stock and the sector, driven by his aggressively bullish view on artificial intelligence.&quot;</td></tr></tbody></table></div>"
            ],
            "text/plain": [
              "shape: (2_642, 3)\n",
              "┌────────────────────────────────┬────────────────────────────────┬────────────────────────────────┐\n",
              "│ source                         ┆ reference                      ┆ quote                          │\n",
              "│ ---                            ┆ ---                            ┆ ---                            │\n",
              "│ str                            ┆ str                            ┆ str                            │\n",
              "╞════════════════════════════════╪════════════════════════════════╪════════════════════════════════╡\n",
              "│ As Twitter destroys its brand  ┆ - Your Highlight on Location   ┆ reached 2.1 million            │\n",
              "│ by renaming itself X, Mastodon ┆ 12-12 | Added on Thursday,     ┆                                │\n",
              "│ user numbers are again soaring ┆ August 17, 2023 12:13:47 PM    ┆                                │\n",
              "│ _ TechCrunch (techcrunch.com)  ┆                                ┆                                │\n",
              "│ These Are the Plunderers: How  ┆ - Your Highlight on page 142 | ┆ The GNC trade generated more   │\n",
              "│ Private Equity Runs—and        ┆ Location 2164-2166 | Added on  ┆ than 100 percent profit to     │\n",
              "│ Wrecks—America: How Private    ┆ Thursday, August 17, 2023      ┆ Apollo. Then the retailer      │\n",
              "│ Equity Runs—and Wrecks—America ┆ 1:27:30 PM                     ┆ issued shares to the public in │\n",
              "│ (Gretchen Morgenson;Joshua     ┆                                ┆ 2011, allowing Ares to exit.   │\n",
              "│ Rosner)                        ┆                                ┆ GNC’s operations declined and  │\n",
              "│                                ┆                                ┆ it filed for bankruptcy in     │\n",
              "│                                ┆                                ┆ 2020.                          │\n",
              "│ These Are the Plunderers: How  ┆ - Your Highlight on page 142 | ┆ Boom times ended with a hard   │\n",
              "│ Private Equity Runs—and        ┆ Location 2175-2176 | Added on  ┆ stop in 2008, when the real    │\n",
              "│ Wrecks—America: How Private    ┆ Thursday, August 17, 2023      ┆ estate mania collapsed and     │\n",
              "│ Equity Runs—and Wrecks—America ┆ 1:28:06 PM                     ┆ investors began to understand  │\n",
              "│ (Gretchen Morgenson;Joshua     ┆                                ┆ how pernicious the banks’      │\n",
              "│ Rosner)                        ┆                                ┆ mortgage misdeeds had been.    │\n",
              "│                                ┆                                ┆ After peaking in October 2007, │\n",
              "│                                ┆                                ┆ the stock market was trending  │\n",
              "│                                ┆                                ┆ down.                          │\n",
              "│ These Are the Plunderers: How  ┆ - Your Highlight on page 227 | ┆ Another former worker at the   │\n",
              "│ Private Equity Runs—and        ┆ Location 3475-3478 | Added on  ┆ facility reported that         │\n",
              "│ Wrecks—America: How Private    ┆ Thursday, August 17, 2023      ┆ management repeatedly put off  │\n",
              "│ Equity Runs—and Wrecks—America ┆ 1:35:12 PM                     ┆ repairs to keep costs low,     │\n",
              "│ (Gretchen Morgenson;Joshua     ┆                                ┆ including failing to repair a  │\n",
              "│ Rosner)                        ┆                                ┆ roof leak properly for five    │\n",
              "│                                ┆                                ┆ years. “A lot of times we’d    │\n",
              "│                                ┆                                ┆ have to close the dining room  │\n",
              "│                                ┆                                ┆ because we were afraid the     │\n",
              "│                                ┆                                ┆ Sheetrock would fall on        │\n",
              "│                                ┆                                ┆ somebody,” he said. “For a     │\n",
              "│                                ┆                                ┆ couple of years, it had a tarp │\n",
              "│                                ┆                                ┆ over that section. It seemed   │\n",
              "│                                ┆                                ┆ like if you’re going run that  │\n",
              "│                                ┆                                ┆ type of business, you have to  │\n",
              "│                                ┆                                ┆ have a dry place for your      │\n",
              "│                                ┆                                ┆ residents.”                    │\n",
              "│ These Are the Plunderers: How  ┆ - Your Highlight on page 228 | ┆ “It’s a horrific thing to ask  │\n",
              "│ Private Equity Runs—and        ┆ Location 3486-3488 | Added on  ┆ the family member to do,”      │\n",
              "│ Wrecks—America: How Private    ┆ Thursday, August 17, 2023      ┆ Chicotel said. But restraining │\n",
              "│ Equity Runs—and Wrecks—America ┆ 1:35:56 PM                     ┆ orders are common in nursing   │\n",
              "│ (Gretchen Morgenson;Joshua     ┆                                ┆ homes, especially when family  │\n",
              "│ Rosner)                        ┆                                ┆ members point out deficiencies │\n",
              "│                                ┆                                ┆ in care, he added. “When       │\n",
              "│                                ┆                                ┆ visitors are concerned about   │\n",
              "│                                ┆                                ┆ care their loved one is        │\n",
              "│                                ┆                                ┆ getting, staff or management   │\n",
              "│                                ┆                                ┆ will see the resident is       │\n",
              "│                                ┆                                ┆ targeted as challenging,”      │\n",
              "│ These Are the Plunderers: How  ┆ - Your Highlight on page 231 | ┆ “Even when you say something   │\n",
              "│ Private Equity Runs—and        ┆ Location 3529-3531 | Added on  ┆ is unsafe there’s little       │\n",
              "│ Wrecks—America: How Private    ┆ Thursday, August 17, 2023      ┆ change that comes out of it,”  │\n",
              "│ Equity Runs—and Wrecks—America ┆ 1:38:29 PM                     ┆ Sprague said of her privateer  │\n",
              "│ (Gretchen Morgenson;Joshua     ┆                                ┆ managers. “If there’s a profit │\n",
              "│ Rosner)                        ┆                                ┆ in it, then they’ll do it.     │\n",
              "│                                ┆                                ┆ They’re not going to do a      │\n",
              "│                                ┆                                ┆ single thing that doesn’t      │\n",
              "│                                ┆                                ┆ benefit them, first and        │\n",
              "│                                ┆                                ┆ foremost.”                     │\n",
              "│ These Are the Plunderers: How  ┆ - Your Highlight on page 232 | ┆ Once the privateers recognized │\n",
              "│ Private Equity Runs—and        ┆ Location 3543-3544 | Added on  ┆ that the Federal Reserve Board │\n",
              "│ Wrecks—America: How Private    ┆ Thursday, August 17, 2023      ┆ stood ready to bail them out   │\n",
              "│ Equity Runs—and Wrecks—America ┆ 1:39:26 PM                     ┆ of bad trades, they returned   │\n",
              "│ (Gretchen Morgenson;Joshua     ┆                                ┆ to the trough. With a          │\n",
              "│ Rosner)                        ┆                                ┆ vengeance.                     │\n",
              "│ China’s property crash is      ┆ - Your Highlight on Location   ┆ Cai Fang, a rate-setter at the │\n",
              "│ becoming more dangerous by the ┆ 13-14 | Added on Thursday,     ┆ central bank, has called for a │\n",
              "│ day (www.telegraph.co.uk)      ┆ August 17, 2023 2:29:15 PM     ┆ $550bn blast of helicopter     │\n",
              "│                                ┆                                ┆ money – or high-powered QE     │\n",
              "│                                ┆                                ┆ injected into the veins of the │\n",
              "│                                ┆                                ┆ economy – in order to stop a   │\n",
              "│                                ┆                                ┆ deflationary psychology taking │\n",
              "│                                ┆                                ┆ hold as frightened households  │\n",
              "│                                ┆                                ┆ retrench.                      │\n",
              "│ China’s property crash is      ┆ - Your Highlight on Location   ┆ The effect is to bludgeon a    │\n",
              "│ becoming more dangerous by the ┆ 22-24 | Added on Thursday,     ┆ eurozone economy already in a  │\n",
              "│ day (www.telegraph.co.uk)      ┆ August 17, 2023 2:29:45 PM     ┆ deep industrial recession. The │\n",
              "│                                ┆                                ┆ cheaper the yuan, the greater  │\n",
              "│                                ┆                                ┆ the tsunami of Chinese         │\n",
              "│                                ┆                                ┆ electric vehicles, machinery,  │\n",
              "│                                ┆                                ┆ or wind turbines, heading for  │\n",
              "│                                ┆                                ┆ Europe.                        │\n",
              "│ China’s property crash is      ┆ - Your Highlight on Location   ┆ The Chinese endured draconian  │\n",
              "│ becoming more dangerous by the ┆ 25-27 | Added on Thursday,     ┆ lockdowns for three years with │\n",
              "│ day (www.telegraph.co.uk)      ┆ August 17, 2023 2:30:05 PM     ┆ far less support. The damage   │\n",
              "│                                ┆                                ┆ has undermined the finances of │\n",
              "│                                ┆                                ┆ millions of small family       │\n",
              "│                                ┆                                ┆ businesses. A large chunk of   │\n",
              "│                                ┆                                ┆ the population has slashed     │\n",
              "│                                ┆                                ┆ spending in order to rebuild   │\n",
              "│                                ┆                                ┆ depleted savings.              │\n",
              "│ China’s property crash is      ┆ - Your Highlight on Location   ┆ great Communist debt bubble,   │\n",
              "│ becoming more dangerous by the ┆ 28-28 | Added on Thursday,     ┆                                │\n",
              "│ day (www.telegraph.co.uk)      ┆ August 17, 2023 2:31:31 PM     ┆                                │\n",
              "│ China’s property crash is      ┆ - Your Highlight on Location   ┆ The giant developer Country    │\n",
              "│ becoming more dangerous by the ┆ 29-31 | Added on Thursday,     ┆ Garden, with total liabilities │\n",
              "│ day (www.telegraph.co.uk)      ┆ August 17, 2023 2:31:42 PM     ┆ of $200bn, is days away from   │\n",
              "│                                ┆                                ┆ default after missing payments │\n",
              "│                                ┆                                ┆ on dollar loans issued in Hong │\n",
              "│                                ┆                                ┆ Kong.                          │\n",
              "│ China’s property crash is      ┆ - Your Highlight on Location   ┆ “We believe the Chinese        │\n",
              "│ becoming more dangerous by the ┆ 35-35 | Added on Thursday,     ┆ economy is faced with an       │\n",
              "│ day (www.telegraph.co.uk)      ┆ August 17, 2023 2:32:28 PM     ┆ imminent downward spiral with  │\n",
              "│                                ┆                                ┆ the worst yet to come,”        │\n",
              "│ China’s property crash is      ┆ - Your Highlight on Location   ┆ China’s $60 trillion property  │\n",
              "│ becoming more dangerous by the ┆ 38-41 | Added on Thursday,     ┆ edifice is by far the largest  │\n",
              "│ day (www.telegraph.co.uk)      ┆ August 17, 2023 2:32:48 PM     ┆ asset class in the world.  It  │\n",
              "│                                ┆                                ┆ accounts for half of the       │\n",
              "│                                ┆                                ┆ world’s entire property sales, │\n",
              "│                                ┆                                ┆ an astonishing figure given    │\n",
              "│                                ┆                                ┆ that China’s workforce is      │\n",
              "│                                ┆                                ┆ already contracting and net    │\n",
              "│                                ┆                                ┆ migration from the countryside │\n",
              "│                                ┆                                ┆ has stopped.                   │\n",
              "│ China’s property crash is      ┆ - Your Highlight on Location   ┆ The developers have debts of   │\n",
              "│ becoming more dangerous by the ┆ 41-42 | Added on Thursday,     ┆ $5 trillion. By comparison,    │\n",
              "│ day (www.telegraph.co.uk)      ┆ August 17, 2023 2:33:36 PM     ┆ this is six times greater than │\n",
              "│                                ┆                                ┆ America’s $800bn subprime      │\n",
              "│                                ┆                                ┆ property debt on the eve of    │\n",
              "│                                ┆                                ┆ the Lehman crisis.             │\n",
              "│ …                              ┆ …                              ┆ …                              │\n",
              "│ Financial Times - calibre      ┆ - Your Highlight on Location   ┆ “Many clients are in the       │\n",
              "│ (calibre)                      ┆ 613-614 | Added on Friday,     ┆ process of selling properties, │\n",
              "│                                ┆ February 2, 2024 2:45:18 PM    ┆ second homes, or homes         │\n",
              "│                                ┆                                ┆ overseas but the market’s a    │\n",
              "│                                ┆                                ┆ bit glued up at the moment and │\n",
              "│                                ┆                                ┆ deals are taking longer.”      │\n",
              "│ Financial Times - calibre      ┆ - Your Highlight on Location   ┆ “The credit check is on the    │\n",
              "│ (calibre)                      ┆ 627-628 | Added on Friday,     ┆ item we’re lending on,” says   │\n",
              "│                                ┆ February 2, 2024 2:46:18 PM    ┆ Tannahill. “The worst that’s   │\n",
              "│                                ┆                                ┆ going to happen to you is that │\n",
              "│                                ┆                                ┆ you’ll lose the item.” This,   │\n",
              "│                                ┆                                ┆ he says, happens in fewer than │\n",
              "│                                ┆                                ┆ 5 per cent of cases.           │\n",
              "│ Financial Times - calibre      ┆ - Your Highlight on Location   ┆ However, cost of living        │\n",
              "│ (calibre)                      ┆ 634-637 | Added on Friday,     ┆ pressures have tarnished the   │\n",
              "│                                ┆ February 2, 2024 2:46:45 PM    ┆ other side of the pawnbroking  │\n",
              "│                                ┆                                ┆ industry’s coin — the resale   │\n",
              "│                                ┆                                ┆ value of forfeited watches and │\n",
              "│                                ┆                                ┆ jewellery. Regardless of their │\n",
              "│                                ┆                                ┆ income level, consumers are    │\n",
              "│                                ┆                                ┆ less willing to spend their    │\n",
              "│                                ┆                                ┆ money on bling. This is being  │\n",
              "│                                ┆                                ┆ evidenced on the high street   │\n",
              "│                                ┆                                ┆ and in the secondary market    │\n",
              "│                                ┆                                ┆ for fancy watches, where       │\n",
              "│                                ┆                                ┆ average prices have fallen for │\n",
              "│                                ┆                                ┆ seven straight quarters.       │\n",
              "│ Financial Times - calibre      ┆ - Your Highlight on Location   ┆ Chief among the obstacles are  │\n",
              "│ (calibre)                      ┆ 865-867 | Added on Friday,     ┆ funding costs and exposure to  │\n",
              "│                                ┆ February 2, 2024 2:49:42 PM    ┆ the troubled commercial real   │\n",
              "│                                ┆                                ┆ estate sector. The 44 per cent │\n",
              "│                                ┆                                ┆ collapse in New York Community │\n",
              "│                                ┆                                ┆ Bancorp’s share price this     │\n",
              "│                                ┆                                ┆ week is a reminder of how      │\n",
              "│                                ┆                                ┆ tough navigating these two     │\n",
              "│                                ┆                                ┆ roadblocks will be.            │\n",
              "│ barrons 05-02-2024 (Nook)      ┆ - Your Highlight on page 13 |  ┆ The numbers were a blowout,    │\n",
              "│ (NewspaperDirect)              ┆ Location 83-84 | Added on      ┆ with nonfarm payrolls          │\n",
              "│                                ┆ Saturday, February 3, 2024     ┆ expanding by 353,000, twice    │\n",
              "│                                ┆ 1:11:05 PM                     ┆ what economists had forecast,  │\n",
              "│                                ┆                                ┆ while average hourly earnings  │\n",
              "│                                ┆                                ┆ jumped by 0.6% in the month    │\n",
              "│                                ┆                                ┆ and 4.5% from a year ago.      │\n",
              "│                                ┆                                ┆ Revisions to the two preceding │\n",
              "│                                ┆                                ┆ months’ payrolls added another │\n",
              "│                                ┆                                ┆ 126,000.                       │\n",
              "│ Financial Times - calibre      ┆ - Your Highlight on page 77 |  ┆ Most immediately, the          │\n",
              "│ (calibre)                      ┆ Location 786-789 | Added on    ┆ liquidation process is set to  │\n",
              "│                                ┆ Saturday, February 3, 2024     ┆ highlight the sparse legal     │\n",
              "│                                ┆ 3:04:29 PM                     ┆ protection afforded to         │\n",
              "│                                ┆                                ┆ offshore investors in Chinese  │\n",
              "│                                ┆                                ┆ assets. A raft of competing    │\n",
              "│                                ┆                                ┆ international and domestic     │\n",
              "│                                ┆                                ┆ claims on Evergrande assets    │\n",
              "│                                ┆                                ┆ bedevils the restructuring of  │\n",
              "│                                ┆                                ┆ a company with more than       │\n",
              "│                                ┆                                ┆ $300bn in liabilities.         │\n",
              "│ Financial Times - calibre      ┆ - Your Highlight on page 77 |  ┆ More broadly, it stands as a   │\n",
              "│ (calibre)                      ┆ Location 790-793 | Added on    ┆ test of Hong Kong’s authority  │\n",
              "│                                ┆ Saturday, February 3, 2024     ┆ with mainland China. It is not │\n",
              "│                                ┆ 3:04:49 PM                     ┆ clear to what extent — if at   │\n",
              "│                                ┆                                ┆ all — local government         │\n",
              "│                                ┆                                ┆ entities, courts and creditors │\n",
              "│                                ┆                                ┆ across the mainland will       │\n",
              "│                                ┆                                ┆ acquiesce to orders from Hong  │\n",
              "│                                ┆                                ┆ Kong to transfer assets they   │\n",
              "│                                ┆                                ┆ currently possess to a         │\n",
              "│                                ┆                                ┆ liquidator.                    │\n",
              "│ Financial Times - calibre      ┆ - Your Highlight on page 78 |  ┆ One of these is that Chinese   │\n",
              "│ (calibre)                      ┆ Location 802-804 | Added on    ┆ developers listed both in the  │\n",
              "│                                ┆ Saturday, February 3, 2024     ┆ mainland and offshore may lack │\n",
              "│                                ┆ 3:05:52 PM                     ┆ the money to deliver at least  │\n",
              "│                                ┆                                ┆ some of their unfinished       │\n",
              "│                                ┆                                ┆ housing units, which Gavekal   │\n",
              "│                                ┆                                ┆ Dragonomics, a consultancy,    │\n",
              "│                                ┆                                ┆ has valued at Rmb7.5tn ($1tn). │\n",
              "│ Financial Times - calibre      ┆ - Your Highlight on page 78 |  ┆ Another risk is that           │\n",
              "│ (calibre)                      ┆ Location 804-806 | Added on    ┆ financially-strapped           │\n",
              "│                                ┆ Saturday, February 3, 2024     ┆ developers may be unable to    │\n",
              "│                                ┆ 3:06:06 PM                     ┆ pay their suppliers. Here      │\n",
              "│                                ┆                                ┆ again, the numbers are huge:   │\n",
              "│                                ┆                                ┆ listed developers collectively │\n",
              "│                                ┆                                ┆ owed Rmb3.4tn in payables to   │\n",
              "│                                ┆                                ┆ their suppliers as of          │\n",
              "│                                ┆                                ┆ mid-2023, according to         │\n",
              "│                                ┆                                ┆ Gavekal.                       │\n",
              "│ Financial Times - calibre      ┆ - Your Highlight on page 79 |  ┆ By several yardsticks, China’s │\n",
              "│ (calibre)                      ┆ Location 811-815 | Added on    ┆ weaknesses appear more         │\n",
              "│                                ┆ Saturday, February 3, 2024     ┆ pronounced than those of Japan │\n",
              "│                                ┆ 3:06:21 PM                     ┆ some 30 years ago. The vacancy │\n",
              "│                                ┆                                ┆ rate for urban residential     │\n",
              "│                                ┆                                ┆ property is around 20 per cent │\n",
              "│                                ┆                                ┆ in China, more than double the │\n",
              "│                                ┆                                ┆ 9 per cent in Japan in 1990,   │\n",
              "│                                ┆                                ┆ according to Goldman Sachs     │\n",
              "│                                ┆                                ┆ research. Housing prices are   │\n",
              "│                                ┆                                ┆ at around 20 times household   │\n",
              "│                                ┆                                ┆ income, compared with 11 times │\n",
              "│                                ┆                                ┆ in Japan in 1990, Goldman      │\n",
              "│                                ┆                                ┆ Sachs added.                   │\n",
              "│ Financial Times - calibre      ┆ - Your Highlight on page 80 |  ┆ it is far from clear that Xi   │\n",
              "│ (calibre)                      ┆ Location 818-819 | Added on    ┆ is as focused on promoting     │\n",
              "│                                ┆ Saturday, February 3, 2024     ┆ economic growth as he is on    │\n",
              "│                                ┆ 3:07:29 PM                     ┆ ensuring China’s security and  │\n",
              "│                                ┆                                ┆ technological progress.        │\n",
              "│ Financial Times - calibre      ┆ - Your Highlight on Location   ┆ Chinese authorities’ promise   │\n",
              "│ (calibre)                      ┆ 1756-1758 | Added on Saturday, ┆ of “forceful” measures last    │\n",
              "│                                ┆ February 3, 2024 3:27:32 PM    ┆ week was their most vocal      │\n",
              "│                                ┆                                ┆ attempt yet to halt a stock    │\n",
              "│                                ┆                                ┆ market sell-off that has wiped │\n",
              "│                                ┆                                ┆ out almost $2tn in value. For  │\n",
              "│                                ┆                                ┆ many investors at a Goldman    │\n",
              "│                                ┆                                ┆ Sachs conference in Hong Kong, │\n",
              "│                                ┆                                ┆ that vow was too little, too   │\n",
              "│                                ┆                                ┆ late.                          │\n",
              "│ Financial Times - calibre      ┆ - Your Highlight on Location   ┆ As a result, the benchmark     │\n",
              "│ (calibre)                      ┆ 1768-1770 | Added on Saturday, ┆ MSCI China stock index is now  │\n",
              "│                                ┆ February 3, 2024 3:28:00 PM    ┆ down more than 60 per cent     │\n",
              "│                                ┆                                ┆ from its peak of early 2021,   │\n",
              "│                                ┆                                ┆ reflecting a loss of more than │\n",
              "│                                ┆                                ┆ $1.9tn in market               │\n",
              "│                                ┆                                ┆ capitalisation over that       │\n",
              "│                                ┆                                ┆ period.                        │\n",
              "│ Financial Times - calibre      ┆ - Your Highlight on Location   ┆ That is a stark contrast to    │\n",
              "│ (calibre)                      ┆ 1772-1774 | Added on Saturday, ┆ attitudes towards China from   │\n",
              "│                                ┆ February 3, 2024 3:28:18 PM    ┆ just a few years ago, when     │\n",
              "│                                ┆                                ┆ foreign investors feared they  │\n",
              "│                                ┆                                ┆ would miss out on the          │\n",
              "│                                ┆                                ┆ country’s rapid economic       │\n",
              "│                                ┆                                ┆ growth and domestic            │\n",
              "│                                ┆                                ┆ consumption turbocharged by    │\n",
              "│                                ┆                                ┆ rapidly expanding ecommerce    │\n",
              "│                                ┆                                ┆ platforms.                     │\n",
              "│ barrons 05-02-2024 (Nook)      ┆ - Your Highlight on page 169 | ┆ Nvidia, the fund’s single      │\n",
              "│ (NewspaperDirect)              ┆ Location 1556-1557 | Added on  ┆ largest position, are up       │\n",
              "│                                ┆ Saturday, February 3, 2024     ┆ another 25% so far in 2024.    │\n",
              "│                                ┆ 3:32:45 PM                     ┆ Curtis sees more gains ahead   │\n",
              "│                                ┆                                ┆ for both the stock and the     │\n",
              "│                                ┆                                ┆ sector, driven by his          │\n",
              "│                                ┆                                ┆ aggressively bullish view on   │\n",
              "│                                ┆                                ┆ artificial intelligence.       │\n",
              "└────────────────────────────────┴────────────────────────────────┴────────────────────────────────┘"
            ]
          },
          "metadata": {},
          "output_type": "display_data"
        }
      ],
      "source": [
        "with pl.Config(fmt_str_lengths=500, tbl_rows=30):\n",
        "    display(new_df)"
      ]
    },
    {
      "cell_type": "code",
      "execution_count": 4,
      "metadata": {},
      "outputs": [
        {
          "data": {
            "text/html": [
              "<div><style>\n",
              ".dataframe > thead > tr,\n",
              ".dataframe > tbody > tr {\n",
              "  text-align: right;\n",
              "  white-space: pre-wrap;\n",
              "}\n",
              "</style>\n",
              "<small>shape: (221,)</small><table border=\"1\" class=\"dataframe\"><thead><tr><th>source</th></tr><tr><td>str</td></tr></thead><tbody><tr><td>&quot;Rising rates and “capital deprivation” Financial Times (Unknown)&quot;</td></tr><tr><td>&quot;NEW: The Coming Collapse of Donald Trump’s January 6 Conspiracy, Part 4: Chuck Grassley (Jan 26)&quot;</td></tr><tr><td>&quot;the-wall-street-journal 10-10-2023 (Nook) (NewspaperDirect)&quot;</td></tr><tr><td>&quot;the-wall-street-journal 08-12-2023 (Nook) (NewspaperDirect)&quot;</td></tr><tr><td>&quot;barrons 05-02-2024 (Nook) (NewspaperDirect)&quot;</td></tr><tr><td>&quot;the-wall-street-journal 20-12-2023 (Nook) (NewspaperDirect)&quot;</td></tr><tr><td>&quot;the-wall-street-journal 29-01-2024 (Nook) (NewspaperDirect)&quot;</td></tr><tr><td>&quot;The Wall Street Journal (free) - calibre (calibre)&quot;</td></tr><tr><td>&quot;Wall Street Bet Big on Used-Car Loans for Years. Now a Crisis May Be Looming. (Ryan Gabrielson)&quot;</td></tr><tr><td>&quot;the-wall-street-journal 12-01-2024 (Nook) (NewspaperDirect)&quot;</td></tr><tr><td>&quot;scikit-learn: machine learning in Python — scikit-learn 1.4.dev0 documentation (Unknown)&quot;</td></tr><tr><td>&quot;the-wall-street-journal 03-01-2024 (Nook) (NewspaperDirect)&quot;</td></tr><tr><td>&hellip;</td></tr><tr><td>&quot;Gmail - Halloween hangover No. 16 — the US keeps getting all the treats (Unknown)&quot;</td></tr><tr><td>&quot;Adani family&#x27;s partners used &#x27;opaque&#x27; funds to invest in its stocks - media group (Amazon)&quot;</td></tr><tr><td>&quot;the-wall-street-journal 07-11-2023 (Nook) (NewspaperDirect)&quot;</td></tr><tr><td>&quot;Trump’s Longtime CFO Lied, Under Oath, About Trump Tower Penthouse (Dan Alexander)&quot;</td></tr><tr><td>&quot;the-wall-street-journal 04-10-2023 (Nook) (NewspaperDirect)&quot;</td></tr><tr><td>&quot;Bloomberg Evening Briefing_ Another Bad Sign for China’s Economy - Bloomberg (www.bloomberg.com)&quot;</td></tr><tr><td>&quot;Gmail - Statistics, and not lying with the damned things (Fraser Tajima)&quot;</td></tr><tr><td>&quot;The Wall Street Journal - NewspaperDirect (NewspaperDirect)&quot;</td></tr><tr><td>&quot;When the generative AI hype fades (Matt Asay)&quot;</td></tr><tr><td>&quot;the-wall-street-journal 12-10-2023 (Nook) (NewspaperDirect)&quot;</td></tr><tr><td>&quot;The Economist - calibre (calibre)&quot;</td></tr><tr><td>&quot;the-wall-street-journal 20-10-2023 (Kobo) (NewspaperDirect)&quot;</td></tr></tbody></table></div>"
            ],
            "text/plain": [
              "shape: (221,)\n",
              "Series: 'source' [str]\n",
              "[\n",
              "\t\"Rising rates and “capital deprivation” Financial Times (Unknown)\"\n",
              "\t\"NEW: The Coming Collapse of Donald Trump’s January 6 Conspiracy, Part 4: Chuck Grassley (Jan 26)\"\n",
              "\t\"the-wall-street-journal 10-10-2023 (Nook) (NewspaperDirect)\"\n",
              "\t\"the-wall-street-journal 08-12-2023 (Nook) (NewspaperDirect)\"\n",
              "\t\"barrons 05-02-2024 (Nook) (NewspaperDirect)\"\n",
              "\t\"the-wall-street-journal 20-12-2023 (Nook) (NewspaperDirect)\"\n",
              "\t\"the-wall-street-journal 29-01-2024 (Nook) (NewspaperDirect)\"\n",
              "\t\"The Wall Street Journal (free) - calibre (calibre)\"\n",
              "\t\"Wall Street Bet Big on Used-Car Loans for Years. Now a Crisis May Be Looming. (Ryan Gabrielson)\"\n",
              "\t\"the-wall-street-journal 12-01-2024 (Nook) (NewspaperDirect)\"\n",
              "\t\"scikit-learn: machine learning in Python — scikit-learn 1.4.dev0 documentation (Unknown)\"\n",
              "\t\"the-wall-street-journal 03-01-2024 (Nook) (NewspaperDirect)\"\n",
              "\t…\n",
              "\t\"2023-ariya (Fraser Tajima)\"\n",
              "\t\"Gmail - Halloween hangover No. 16 — the US keeps getting all the treats (Unknown)\"\n",
              "\t\"Adani family's partners used 'opaque' funds to invest in its stocks - media group (Amazon)\"\n",
              "\t\"the-wall-street-journal 07-11-2023 (Nook) (NewspaperDirect)\"\n",
              "\t\"Trump’s Longtime CFO Lied, Under Oath, About Trump Tower Penthouse (Dan Alexander)\"\n",
              "\t\"the-wall-street-journal 04-10-2023 (Nook) (NewspaperDirect)\"\n",
              "\t\"Bloomberg Evening Briefing_ Another Bad Sign for China’s Economy - Bloomberg (www.bloomberg.com)\"\n",
              "\t\"Gmail - Statistics, and not lying with the damned things (Fraser Tajima)\"\n",
              "\t\"The Wall Street Journal - NewspaperDirect (NewspaperDirect)\"\n",
              "\t\"When the generative AI hype fades (Matt Asay)\"\n",
              "\t\"the-wall-street-journal 12-10-2023 (Nook) (NewspaperDirect)\"\n",
              "\t\"The Economist - calibre (calibre)\"\n",
              "\t\"the-wall-street-journal 20-10-2023 (Kobo) (NewspaperDirect)\"\n",
              "]"
            ]
          },
          "metadata": {},
          "output_type": "display_data"
        }
      ],
      "source": [
        "# source is [:,0], reference is [:,1], quote is [:,2]\n",
        "# note the pandas version works but the version 3 polars version .unique() is buggy!\n",
        "with pl.Config(fmt_str_lengths=500):\n",
        "    display(new_df['source'].unique())"
      ]
    },
    {
      "cell_type": "markdown",
      "metadata": {},
      "source": [
        "# machine learning dataset"
      ]
    },
    {
      "cell_type": "code",
      "execution_count": 5,
      "metadata": {},
      "outputs": [],
      "source": [
        "# save new_df to file for machine learning by other notebooks\n",
        "# use 'kindle_scribe_new_df.csv' in a separate notebook for machine learning text processing\n",
        "new_df.write_csv('kindle_scribe_new_df_polars.csv')"
      ]
    },
    {
      "attachments": {},
      "cell_type": "markdown",
      "metadata": {
        "id": "6q7MJGrRDWxP"
      },
      "source": [
        "# Set search parameters here\n",
        "\n",
        "With this Kindle clipping database, you can now define `search_term` and `search_term2`. For example, if you only want to search within Shakespeare books, you can enter 'shakespeare' as `search_term`. Leaving a search term blank searches all instances or sources. You can also be very specific, such as `'tesla | China'` to search for 'tesla' or 'China' in the clipping. If you want both, use `'tesla .* China'`."
      ]
    },
    {
      "cell_type": "code",
      "execution_count": 6,
      "metadata": {
        "colab": {
          "base_uri": "https://localhost:8080/",
          "height": 142
        },
        "id": "MfPt8F9sDWxP",
        "outputId": "2af76c1b-bb4f-4deb-b01f-598ef1005c06",
        "tags": []
      },
      "outputs": [
        {
          "data": {
            "text/html": [
              "<div><style>\n",
              ".dataframe > thead > tr,\n",
              ".dataframe > tbody > tr {\n",
              "  text-align: right;\n",
              "  white-space: pre-wrap;\n",
              "}\n",
              "</style>\n",
              "<small>shape: (70, 3)</small><table border=\"1\" class=\"dataframe\"><thead><tr><th>source</th><th>reference</th><th>quote</th></tr><tr><td>str</td><td>str</td><td>str</td></tr></thead><tbody><tr><td>&quot;China’s property crash is becoming more dangerous by the day (www.telegraph.co.uk)&quot;</td><td>&quot;- Your Highlight on Location 38-41 | Added on Thursday, August 17, 2023 2:32:48 PM&quot;</td><td>&quot;China’s $60 trillion property edifice is by far the largest asset class in the world.  It accounts for half of the world’s entire property sales, an astonishing figure given that China’s workforce is already contracting and net migration from the countryside has stopped.&quot;</td></tr><tr><td>&quot;China’s property crash is becoming more dangerous by the day (www.telegraph.co.uk)&quot;</td><td>&quot;- Your Highlight on Location 41-42 | Added on Thursday, August 17, 2023 2:33:36 PM&quot;</td><td>&quot;The developers have debts of $5 trillion. By comparison, this is six times greater than America’s $800bn subprime property debt on the eve of the Lehman crisis.&quot;</td></tr><tr><td>&quot;China’s property crash is becoming more dangerous by the day (www.telegraph.co.uk)&quot;</td><td>&quot;- Your Highlight on Location 45-46 | Added on Thursday, August 17, 2023 2:34:17 PM&quot;</td><td>&quot;They rely on property for 38pc of total revenue, mostly from land sales. These sales have collapsed. The finance ministry says local government income fell 21pc in the first half of 2023.&quot;</td></tr><tr><td>&quot;The Economist (calibre)&quot;</td><td>&quot;- Your Highlight on page 47 | Location 715-718 | Added on Friday, August 18, 2023 2:19:41 PM&quot;</td><td>&quot;But the government’s moves have mostly backfired. The public humiliation of tech entrepreneurs was a punch in the stomach for ambitious youngsters inspired by their example (though young leftists have celebrated the party’s humbling of billionaires). And the regulatory crackdowns on their companies, as well as on property developers, have hobbled some of the most reliable employers of China’s university-educated youth.&quot;</td></tr><tr><td>&quot;The Economist (calibre)&quot;</td><td>&quot;- Your Highlight on page 185 | Location 2831-2835 | Added on Friday, August 18, 2023 5:15:59 PM&quot;</td><td>&quot;The calculation has changed in recent days. Country Garden’s issue is not one of over-leverage in the style of Evergrande. Instead, it is a victim of a loss of confidence among regular folk—a sign the government is losing control. After a short rebound following the lifting of covid-19 controls, the property crisis has intensified. Prices are dropping. Sales among the 100 biggest developers fell by 33% in July compared with a year earlier. Country Garden’s tumbled by 60%. The firm’s decline is …</td></tr><tr><td>&quot;China Faces a Crisis in Its Real Estate Sector - The New York Times (www.nytimes.com)&quot;</td><td>&quot;- Your Highlight on Location 40-43 | Added on Sunday, August 20, 2023 4:54:33 PM&quot;</td><td>&quot;One after another, the companies began to crumble as they could not pay their bills. More than 50 Chinese property developers have defaulted or failed to make debt payments in the last three years, according to credit ratings agency Standard &amp; Poor’s. The defaults have exposed a reality of China’s property boom: the borrow-to-build model works only as long as prices keep going up.&quot;</td></tr><tr><td>&quot;China’s Property Crisis Is Rippling Through the Economy - The New York Times (www.nytimes.com)&quot;</td><td>&quot;- Your Highlight on Location 23-23 | Added on Wednesday, August 30, 2023 11:25:58 AM&quot;</td><td>&quot;Small businesses and workers who thrived on the decades-long property boom are no longer getting paid.&quot;</td></tr><tr><td>&quot;the-economist 26-08-2023 (Sony) (NewspaperDirect)&quot;</td><td>&quot;- Your Highlight on Location 4363-4367 | Added on Wednesday, August 30, 2023 9:02:24 PM&quot;</td><td>&quot;But what if things go badly wrong in China? Under a worst-case scenario, a property meltdown could reverberate through the world’s financial markets. A study published by the Bank of England in 2018 found that a “hard landing” in China, where economic growth fell from 7% to -1%, would cause global asset prices to fall and rich-world currencies to rise as investors rushed in the direction of safer assets. Overall, British gdp would drop by 1.2%. Although most Western financial institutions have …</td></tr><tr><td>&quot;the-wall-street-journal 07-09-2023 (Sony) (NewspaperDirect)&quot;</td><td>&quot;- Your Highlight on Location 148-153 | Added on Thursday, September 7, 2023 11:38:50 AM&quot;</td><td>&quot;Banks’ exposure is even bigger than commonly reported. The banks are in danger of setting off a doom-loop scenario where losses on the loans trigger banks • Page A8 •  Developer RXR defaulted on a $240 million loan on 61 Broadway, its 33-story office tower in New York City.  to cut lending, which leads to further drops in property prices and yet more losses.&quot;</td></tr><tr><td>&quot;the-wall-street-journal 07-09-2023 (Sony) (NewspaperDirect)&quot;</td><td>&quot;- Your Highlight on Location 156-157 | Added on Thursday, September 7, 2023 11:39:16 AM&quot;</td><td>&quot;The bank is effectively stuck with the property. “Buying land in the current unstable environment is not something that a lot of people will do,” Gleason, the CEO, said during an April earnings call. Bank OZK declined to comment.&quot;</td></tr><tr><td>&quot;The Economist - calibre (calibre)&quot;</td><td>&quot;- Your Highlight on Location 3205-3208 | Added on Saturday, September 16, 2023 12:36:45 PM&quot;</td><td>&quot;The current healthy housing market in India helps explain why growth has remained strong, and the stockmarket registered large gains, despite a slowdown in exports and crucial industries, not least technology. Construction in India employs more than 50m people and comprises 7% of GDP. The property industry is a big customer for cement, steel, glass and white goods, along with credit. Past problems may have rightfully cast the sector in a negative light. Now, much like Mumbai’s towers, it is on …</td></tr><tr><td>&quot;The Economist - calibre (calibre)&quot;</td><td>&quot;- Your Highlight on Location 3320-3322 | Added on Saturday, September 16, 2023 12:40:13 PM&quot;</td><td>&quot;After its stockmarket bubble burst in 1989, share prices plunged by 60% in less than three years. Property prices in Tokyo fell for over a decade. Deflation, by some measures, persisted even longer. Even the price of golf-club memberships—tradable on organised exchanges in Japan—tumbled by 94%.&quot;</td></tr><tr><td>&hellip;</td><td>&hellip;</td><td>&hellip;</td></tr><tr><td>&quot;the-wall-street-journal 05-01-2024 (Nook) (NewspaperDirect)&quot;</td><td>&quot;- Your Highlight on page 266 | Location 2523-2526 | Added on Tuesday, January 9, 2024 10:18:26 AM&quot;</td><td>&quot;Mission accomplished. Property prices have plummeted, large developers have gone bankrupt, and construction often has stalled. Not only does this stress the banks, it strains China’s vast and opaque alternative monetary system and creates liquidity and solvency challenges for many local governments that back large, real-estate-linked investment funds.&quot;</td></tr><tr><td>&quot;the-wall-street-journal 05-01-2024 (Nook) (NewspaperDirect)&quot;</td><td>&quot;- Your Highlight on page 267 | Location 2533-2534 | Added on Tuesday, January 9, 2024 2:47:57 PM&quot;</td><td>&quot;that a conspicuous outcome of the property crackdown has been the transfer of the assets of failed private developers to state-owned firms.&quot;</td></tr><tr><td>&quot;barrons 15-01-2024 (Nook) (NewspaperDirect)&quot;</td><td>&quot;- Your Highlight on Location 6001-6003 | Added on Saturday, January 13, 2024 2:42:08 PM&quot;</td><td>&quot;The list also includes a group of industrial companies, including Dover, Parker-Hannifin, Genuine Parts, Emerson Electric, Nordson, and 3M. Lowe’s makes the cut, as does Cincinnati Financial, a property and casualty insurer. Northwest Natural Holding is a gas utility in the Pacific Northwest.&quot;</td></tr><tr><td>&quot;the-wall-street-journal 24-01-2024 (Nook) (NewspaperDirect)&quot;</td><td>&quot;- Your Highlight on page 29 | Location 257-259 | Added on Thursday, January 25, 2024 4:20:31 PM&quot;</td><td>&quot;Liu Yuan, head of property research at Centaline, said without the government’s help, new-home prices will need to drop by another 50% from current levels before they reach a bottom. This is based on the assumption that the tipping point will only come when it is cheaper to buy than to rent houses, Liu said.&quot;</td></tr><tr><td>&quot;The New York Times - calibre (calibre)&quot;</td><td>&quot;- Your Highlight on page 201 | Location 1841-1848 | Added on Friday, January 26, 2024 10:30:41 AM&quot;</td><td>&quot;A shrinking population and aging work force are adding to the headwinds. China on Wednesday also said that its population shrank by 2 million people and was aging rapidly, putting further strain on its already-weak health care system and underfunded state pension. While China’s economy has shown some slight improvement recently, “the recovery clearly remains shaky,” economists at Capital Economics wrote in a report. Real estate and consumer companies were among the worst hit by the sell-off in …</td></tr><tr><td>&quot;That thunder out of China is loss of confidence (Unknown)&quot;</td><td>&quot;- Your Highlight on page 4 | Location 25-27 | Added on Friday, January 26, 2024 10:39:27 AM&quot;</td><td>&quot;In some respects, not pouring on the gas to the Chinese  economy, probably, in the longer term, is the right thing to  do. You have way too much debt. Why would you throw  more at that? And I think President Xi has realized this quite  some time ago when he created those three red arrows for  the property sector. &quot;</td></tr><tr><td>&quot;What China’s E.V. City Says About the State of the Economy (By Keith Bradsher and Joy Dong)&quot;</td><td>&quot;- Your Highlight on page 8 | Location 84-87 | Added on Saturday, January 27, 2024 4:53:58 PM&quot;</td><td>&quot;According to the China Index Academy, a property market data provider, the number of new apartments sold each month in Hefei has plummeted. By November, sales were down 45 percent from a year earlier. The nosedive in sales is crippling the ability of debt-laden real estate developers to finance new projects. The total floor area of new projects last year plummeted 57 percent from 2022.&quot;</td></tr><tr><td>&quot;China Evergrande ordered to liquidate, owing $300 bln (By Clare Jim and Xie YuJanuary 28, 20247:03 PM PSTUpdated a min ago)&quot;</td><td>&quot;- Your Highlight on page 1 | Location 16-20 | Added on Monday, January 29, 2024 2:14:56 PM&quot;</td><td>&quot;A Hong Kong court on Monday ordered the liquidation of property giant China Evergrande Group (3333.HK), opens new tab, a move likely to send ripples through China&#x27;s crumbling financial markets as policymakers scramble to contain a deepening crisis.&quot;</td></tr><tr><td>&quot;Financial Times - calibre (calibre)&quot;</td><td>&quot;- Your Highlight on Location 157-161 | Added on Monday, January 29, 2024 6:04:26 PM&quot;</td><td>&quot;Normally, a liquidation offers the opportunity to sell the developer’s assets and repay part of its debts. But for Evergrande, the winding-up process should be drawn out leaving little for liquidators to seize. Most of Evergrande’s assets have already been sold. Property prices have continued to slide in the past two years, which means not much value is left in what little remains to sell. The value in Evergrande’s other two listed units is also depressed, down more than 90 per cent since 2021.…</td></tr><tr><td>&quot;The New York Times - calibre (calibre)&quot;</td><td>&quot;- Your Highlight on page 125 | Location 1208-1212 | Added on Wednesday, January 31, 2024 1:42:16 PM&quot;</td><td>&quot;The unwavering belief of Chinese home buyers that real estate was a can’t-lose investment propelled the country’s property sector to become the backbone of its economy. But over the last two years, as firms crumbled under the weight of massive debts and sales of new homes plunged, Chinese consumers have demonstrated an equally unshakable belief: Real estate has become a losing investment.&quot;</td></tr><tr><td>&quot;The New York Times - calibre (calibre)&quot;</td><td>&quot;- Your Highlight on page 128 | Location 1240-1243 | Added on Thursday, February 1, 2024 8:54:37 AM&quot;</td><td>&quot;Since 2021, more than 50 Chinese property firms have defaulted on debt, including the two firms that once dominated the country’s housing market: Evergrande and Country Garden . Once Evergrande’s main rival for industry leadership, Country Garden effectively defaulted in October. The company’s situation has worsened because its sales have collapsed.&quot;</td></tr><tr><td>&quot;Financial Times - calibre (calibre)&quot;</td><td>&quot;- Your Highlight on page 79 | Location 811-815 | Added on Saturday, February 3, 2024 3:06:21 PM&quot;</td><td>&quot;By several yardsticks, China’s weaknesses appear more pronounced than those of Japan some 30 years ago. The vacancy rate for urban residential property is around 20 per cent in China, more than double the 9 per cent in Japan in 1990, according to Goldman Sachs research. Housing prices are at around 20 times household income, compared with 11 times in Japan in 1990, Goldman Sachs added.&quot;</td></tr></tbody></table></div>"
            ],
            "text/plain": [
              "shape: (70, 3)\n",
              "┌────────────────────────────────┬────────────────────────────────┬────────────────────────────────┐\n",
              "│ source                         ┆ reference                      ┆ quote                          │\n",
              "│ ---                            ┆ ---                            ┆ ---                            │\n",
              "│ str                            ┆ str                            ┆ str                            │\n",
              "╞════════════════════════════════╪════════════════════════════════╪════════════════════════════════╡\n",
              "│ China’s property crash is      ┆ - Your Highlight on Location   ┆ China’s $60 trillion property  │\n",
              "│ becoming more dangerous by the ┆ 38-41 | Added on Thursday,     ┆ edifice is by far the largest  │\n",
              "│ day (www.telegraph.co.uk)      ┆ August 17, 2023 2:32:48 PM     ┆ asset class in the world.  It  │\n",
              "│                                ┆                                ┆ accounts for half of the       │\n",
              "│                                ┆                                ┆ world’s entire property sales, │\n",
              "│                                ┆                                ┆ an astonishing figure given    │\n",
              "│                                ┆                                ┆ that China’s workforce is      │\n",
              "│                                ┆                                ┆ already contracting and net    │\n",
              "│                                ┆                                ┆ migration from the countryside │\n",
              "│                                ┆                                ┆ has stopped.                   │\n",
              "│ China’s property crash is      ┆ - Your Highlight on Location   ┆ The developers have debts of   │\n",
              "│ becoming more dangerous by the ┆ 41-42 | Added on Thursday,     ┆ $5 trillion. By comparison,    │\n",
              "│ day (www.telegraph.co.uk)      ┆ August 17, 2023 2:33:36 PM     ┆ this is six times greater than │\n",
              "│                                ┆                                ┆ America’s $800bn subprime      │\n",
              "│                                ┆                                ┆ property debt on the eve of    │\n",
              "│                                ┆                                ┆ the Lehman crisis.             │\n",
              "│ China’s property crash is      ┆ - Your Highlight on Location   ┆ They rely on property for 38pc │\n",
              "│ becoming more dangerous by the ┆ 45-46 | Added on Thursday,     ┆ of total revenue, mostly from  │\n",
              "│ day (www.telegraph.co.uk)      ┆ August 17, 2023 2:34:17 PM     ┆ land sales. These sales have   │\n",
              "│                                ┆                                ┆ collapsed. The finance         │\n",
              "│                                ┆                                ┆ ministry says local government │\n",
              "│                                ┆                                ┆ income fell 21pc in the first  │\n",
              "│                                ┆                                ┆ half of 2023.                  │\n",
              "│ The Economist (calibre)        ┆ - Your Highlight on page 47 |  ┆ But the government’s moves     │\n",
              "│                                ┆ Location 715-718 | Added on    ┆ have mostly backfired. The     │\n",
              "│                                ┆ Friday, August 18, 2023        ┆ public humiliation of tech     │\n",
              "│                                ┆ 2:19:41 PM                     ┆ entrepreneurs was a punch in   │\n",
              "│                                ┆                                ┆ the stomach for ambitious      │\n",
              "│                                ┆                                ┆ youngsters inspired by their   │\n",
              "│                                ┆                                ┆ example (though young leftists │\n",
              "│                                ┆                                ┆ have celebrated the party’s    │\n",
              "│                                ┆                                ┆ humbling of billionaires). And │\n",
              "│                                ┆                                ┆ the regulatory crackdowns on   │\n",
              "│                                ┆                                ┆ their companies, as well as on │\n",
              "│                                ┆                                ┆ property developers, have      │\n",
              "│                                ┆                                ┆ hobbled some of the most       │\n",
              "│                                ┆                                ┆ reliable employers of China’s  │\n",
              "│                                ┆                                ┆ university-educated youth.     │\n",
              "│ …                              ┆ …                              ┆ …                              │\n",
              "│ Financial Times - calibre      ┆ - Your Highlight on Location   ┆ Normally, a liquidation offers │\n",
              "│ (calibre)                      ┆ 157-161 | Added on Monday,     ┆ the opportunity to sell the    │\n",
              "│                                ┆ January 29, 2024 6:04:26 PM    ┆ developer’s assets and repay   │\n",
              "│                                ┆                                ┆ part of its debts. But for     │\n",
              "│                                ┆                                ┆ Evergrande, the winding-up     │\n",
              "│                                ┆                                ┆ process should be drawn out    │\n",
              "│                                ┆                                ┆ leaving little for liquidators │\n",
              "│                                ┆                                ┆ to seize. Most of Evergrande’s │\n",
              "│                                ┆                                ┆ assets have already been sold. │\n",
              "│                                ┆                                ┆ Property prices have continued │\n",
              "│                                ┆                                ┆ to slide in the past two       │\n",
              "│                                ┆                                ┆ years, which means not much    │\n",
              "│                                ┆                                ┆ value is left in what little   │\n",
              "│                                ┆                                ┆ remains to sell. The value in  │\n",
              "│                                ┆                                ┆ Evergrande’s other two listed  │\n",
              "│                                ┆                                ┆ units is also depressed, down  │\n",
              "│                                ┆                                ┆ more than 90 per cent since    │\n",
              "│                                ┆                                ┆ 2021.                          │\n",
              "│ The New York Times - calibre   ┆ - Your Highlight on page 125 | ┆ The unwavering belief of       │\n",
              "│ (calibre)                      ┆ Location 1208-1212 | Added on  ┆ Chinese home buyers that real  │\n",
              "│                                ┆ Wednesday, January 31, 2024    ┆ estate was a can’t-lose        │\n",
              "│                                ┆ 1:42:16 PM                     ┆ investment propelled the       │\n",
              "│                                ┆                                ┆ country’s property sector to   │\n",
              "│                                ┆                                ┆ become the backbone of its     │\n",
              "│                                ┆                                ┆ economy. But over the last two │\n",
              "│                                ┆                                ┆ years, as firms crumbled under │\n",
              "│                                ┆                                ┆ the weight of massive debts    │\n",
              "│                                ┆                                ┆ and sales of new homes         │\n",
              "│                                ┆                                ┆ plunged, Chinese consumers     │\n",
              "│                                ┆                                ┆ have demonstrated an equally   │\n",
              "│                                ┆                                ┆ unshakable belief: Real estate │\n",
              "│                                ┆                                ┆ has become a losing            │\n",
              "│                                ┆                                ┆ investment.                    │\n",
              "│ The New York Times - calibre   ┆ - Your Highlight on page 128 | ┆ Since 2021, more than 50       │\n",
              "│ (calibre)                      ┆ Location 1240-1243 | Added on  ┆ Chinese property firms have    │\n",
              "│                                ┆ Thursday, February 1, 2024     ┆ defaulted on debt, including   │\n",
              "│                                ┆ 8:54:37 AM                     ┆ the two firms that once        │\n",
              "│                                ┆                                ┆ dominated the country’s        │\n",
              "│                                ┆                                ┆ housing market: Evergrande and │\n",
              "│                                ┆                                ┆ Country Garden . Once          │\n",
              "│                                ┆                                ┆ Evergrande’s main rival for    │\n",
              "│                                ┆                                ┆ industry leadership, Country   │\n",
              "│                                ┆                                ┆ Garden effectively defaulted   │\n",
              "│                                ┆                                ┆ in October. The company’s      │\n",
              "│                                ┆                                ┆ situation has worsened because │\n",
              "│                                ┆                                ┆ its sales have collapsed.      │\n",
              "│ Financial Times - calibre      ┆ - Your Highlight on page 79 |  ┆ By several yardsticks, China’s │\n",
              "│ (calibre)                      ┆ Location 811-815 | Added on    ┆ weaknesses appear more         │\n",
              "│                                ┆ Saturday, February 3, 2024     ┆ pronounced than those of Japan │\n",
              "│                                ┆ 3:06:21 PM                     ┆ some 30 years ago. The vacancy │\n",
              "│                                ┆                                ┆ rate for urban residential     │\n",
              "│                                ┆                                ┆ property is around 20 per cent │\n",
              "│                                ┆                                ┆ in China, more than double the │\n",
              "│                                ┆                                ┆ 9 per cent in Japan in 1990,   │\n",
              "│                                ┆                                ┆ according to Goldman Sachs     │\n",
              "│                                ┆                                ┆ research. Housing prices are   │\n",
              "│                                ┆                                ┆ at around 20 times household   │\n",
              "│                                ┆                                ┆ income, compared with 11 times │\n",
              "│                                ┆                                ┆ in Japan in 1990, Goldman      │\n",
              "│                                ┆                                ┆ Sachs added.                   │\n",
              "└────────────────────────────────┴────────────────────────────────┴────────────────────────────────┘"
            ]
          },
          "metadata": {},
          "output_type": "display_data"
        }
      ],
      "source": [
        "# leave blank to search all sources\n",
        "# syntax for more than 1 search term?\n",
        "# (?i) is case insensitive\n",
        "\n",
        "source_search_term = ('(?i)')\n",
        "quote_search_term = ('(?i)property')\n",
        "\n",
        "df_search = new_df.filter(pl.col('source').str.contains(source_search_term))\n",
        "df_search = df_search.filter(pl.col('quote').str.contains(quote_search_term))\n",
        "\n",
        "with pl.Config(fmt_str_lengths=500):\n",
        "    display(df_search[['source','reference','quote']])"
      ]
    },
    {
      "cell_type": "code",
      "execution_count": null,
      "metadata": {},
      "outputs": [],
      "source": [
        "# Save the dataframe to an HTML file\n",
        "df_html = df_search[['source','quote','reference']]\n",
        "df_html.to_html('search_results.html')"
      ]
    },
    {
      "cell_type": "code",
      "execution_count": 7,
      "metadata": {
        "id": "JlwLbK81DWxQ"
      },
      "outputs": [],
      "source": [
        "# used a dataset visualisation example code to display the length of the highlight column\n",
        "\n",
        "\"\"\"Module to explore data.\n",
        "Contains functions to help study, visualize and understand datasets.\n",
        "https://github.com/google/eng-edu/blob/main/ml/guides/text_classification/explore_data.py\n",
        "\"\"\"\n",
        "from __future__ import absolute_import\n",
        "from __future__ import division\n",
        "from __future__ import print_function\n",
        "\n",
        "import numpy as np\n",
        "import matplotlib.pyplot as plt\n",
        "\n",
        "from collections import Counter\n",
        "from sklearn.feature_extraction.text import CountVectorizer\n",
        "\n",
        "\n",
        "def get_num_classes(labels):\n",
        "    \"\"\"Gets the total number of classes.\n",
        "    # Arguments\n",
        "        labels: list, label values.\n",
        "            There should be at lease one sample for values in the\n",
        "            range (0, num_classes -1)\n",
        "    # Returns\n",
        "        int, total number of classes.\n",
        "    # Raises\n",
        "        ValueError: if any label value in the range(0, num_classes - 1)\n",
        "            is missing or if number of classes is <= 1.\n",
        "    \"\"\"\n",
        "    num_classes = max(labels) + 1\n",
        "    missing_classes = [i for i in range(num_classes) if i not in labels]\n",
        "    if len(missing_classes):\n",
        "        raise ValueError('Missing samples with label value(s) '\n",
        "                         '{missing_classes}. Please make sure you have '\n",
        "                         'at least one sample for every label value '\n",
        "                         'in the range(0, {max_class})'.format(\n",
        "                            missing_classes=missing_classes,\n",
        "                            max_class=num_classes - 1))\n",
        "\n",
        "    if num_classes <= 1:\n",
        "        raise ValueError('Invalid number of labels: {num_classes}.'\n",
        "                         'Please make sure there are at least two classes '\n",
        "                         'of samples'.format(num_classes=num_classes))\n",
        "    return num_classes\n",
        "\n",
        "\n",
        "def get_num_words_per_sample(sample_texts):\n",
        "    \"\"\"Gets the median number of words per sample given corpus.\n",
        "    # Arguments\n",
        "        sample_texts: list, sample texts.\n",
        "    # Returns\n",
        "        int, median number of words per sample.\n",
        "    \"\"\"\n",
        "    num_words = [len(s.split()) for s in sample_texts]\n",
        "    return np.median(num_words)\n",
        "\n",
        "\n",
        "def plot_frequency_distribution_of_ngrams(sample_texts,\n",
        "                                          ngram_range=(1, 2),\n",
        "                                          num_ngrams=50):\n",
        "    \"\"\"Plots the frequency distribution of n-grams.\n",
        "    # Arguments\n",
        "        samples_texts: list, sample texts.\n",
        "        ngram_range: tuple (min, mplt), The range of n-gram values to consider.\n",
        "            Min and mplt are the lower and upper bound values for the range.\n",
        "        num_ngrams: int, number of n-grams to plot.\n",
        "            Top `num_ngrams` frequent n-grams will be plotted.\n",
        "    \"\"\"\n",
        "    # Create args required for vectorizing.\n",
        "    kwargs = {\n",
        "            'ngram_range': (1, 1),\n",
        "            'dtype': 'int32',\n",
        "            'strip_accents': 'unicode',\n",
        "            'decode_error': 'replace',\n",
        "            'analyzer': 'word',  # Split text into word tokens.\n",
        "    }\n",
        "    vectorizer = CountVectorizer(**kwargs)\n",
        "\n",
        "    # This creates a vocabulary (dict, where keys are n-grams and values are\n",
        "    # idxices). This also converts every text to an array the length of\n",
        "    # vocabulary, where every element idxicates the count of the n-gram\n",
        "    # corresponding at that idxex in vocabulary.\n",
        "    vectorized_texts = vectorizer.fit_transform(sample_texts)\n",
        "\n",
        "    # This is the list of all n-grams in the index order from the vocabulary.\n",
        "    all_ngrams = list(vectorizer.get_feature_names())\n",
        "    num_ngrams = min(num_ngrams, len(all_ngrams))\n",
        "    # ngrams = all_ngrams[:num_ngrams]\n",
        "\n",
        "    # Add up the counts per n-gram ie. column-wise\n",
        "    all_counts = vectorized_texts.sum(axis=0).tolist()[0]\n",
        "\n",
        "    # Sort n-grams and counts by frequency and get top `num_ngrams` ngrams.\n",
        "    all_counts, all_ngrams = zip(*[(c, n) for c, n in sorted(\n",
        "        zip(all_counts, all_ngrams), reverse=True)])\n",
        "    ngrams = list(all_ngrams)[:num_ngrams]\n",
        "    counts = list(all_counts)[:num_ngrams]\n",
        "\n",
        "    idx = np.arange(num_ngrams)\n",
        "    plt.bar(idx, counts, width=0.8, color='b')\n",
        "    plt.xlabel('N-grams')\n",
        "    plt.ylabel('Frequencies')\n",
        "    plt.title('Frequency distribution of n-grams')\n",
        "    plt.xticks(idx, ngrams, rotation=45)\n",
        "    plt.show()\n",
        "\n",
        "\n",
        "def plot_sample_length_distribution(sample_texts):\n",
        "    \"\"\"Plots the sample length distribution.\n",
        "    # Arguments\n",
        "        samples_texts: list, sample texts.\n",
        "    \"\"\"\n",
        "    plt.hist([len(s) for s in sample_texts], 50)\n",
        "    plt.xlabel('Length of a sample')\n",
        "    plt.ylabel('Number of samples')\n",
        "    plt.title('Sample length distribution')\n",
        "    plt.show()\n"
      ]
    },
    {
      "cell_type": "code",
      "execution_count": 8,
      "metadata": {
        "colab": {
          "base_uri": "https://localhost:8080/",
          "height": 295
        },
        "id": "EqPI5yvZDWxR",
        "outputId": "537cd157-e000-44aa-a834-372c62d1ba7d"
      },
      "outputs": [
        {
          "data": {
            "image/png": "[encoded data removed]",
            "text/plain": [
              "<Figure size 640x480 with 1 Axes>"
            ]
          },
          "metadata": {},
          "output_type": "display_data"
        }
      ],
      "source": [
        "df = new_df.to_pandas()\n",
        "plot_sample_length_distribution(df['quote'])"
      ]
    },
    {
      "attachments": {},
      "cell_type": "markdown",
      "metadata": {
        "id": "y2C5pVCeJuu_"
      },
      "source": [
        "# Topic generator\n",
        "Simple code sample from Bing AI to get an overview of the topics covered in the Kindle clippings."
      ]
    },
    {
      "cell_type": "code",
      "execution_count": 9,
      "metadata": {
        "colab": {
          "base_uri": "https://localhost:8080/"
        },
        "id": "o59eaTU-DWxR",
        "outputId": "b6291f3f-1cbf-4440-f9d8-878ff55748ad"
      },
      "outputs": [
        {
          "name": "stdout",
          "output_type": "stream",
          "text": [
            "Topic #0:\n",
            "debt billion investors million real companies market money financial banks\n",
            "\n",
            "Topic #1:\n",
            "long term memory small short performance mental large businesses developed\n",
            "\n",
            "Topic #2:\n",
            "practice news spent bad place deliberate book generally good target\n",
            "\n",
            "Topic #3:\n",
            "china chinese tesla musk said country electric company vehicles ev\n",
            "\n",
            "Topic #4:\n",
            "year market quarter rates china growth cent price according higher\n",
            "\n",
            "Topic #5:\n",
            "ai just people researchers need new learning google research work\n",
            "\n",
            "Topic #6:\n",
            "said ai 000 company new world technology year time people\n",
            "\n",
            "Topic #7:\n",
            "state group said data intel new hydrogen government power company\n",
            "\n",
            "Topic #8:\n",
            "said mr trump workers did law german employees little business\n",
            "\n",
            "Topic #9:\n",
            "companies tech important products able latest food data rule big\n",
            "\n"
          ]
        }
      ],
      "source": [
        "# modified sample code from Bing AI to get some overview of the topics\n",
        "# covered in the Kindle clipping dataset; once you have topics, you can\n",
        "# conduct boolean searches as shown previously for more detail\n",
        "\n",
        "# Import the necessary modules\n",
        "# from sklearn.datasets import fetch_20newsgroups\n",
        "from sklearn.feature_extraction.text import CountVectorizer\n",
        "from sklearn.decomposition import LatentDirichletAllocation\n",
        "\n",
        "# Extract the document-term matrix using CountVectorizer\n",
        "vectorizer = CountVectorizer(max_df=0.95, min_df=2,\n",
        "                             max_features=1000,\n",
        "                             stop_words='english')\n",
        "X = vectorizer.fit_transform(df['quote'])\n",
        "\n",
        "# Fit the LDA model with n_components topics\n",
        "lda = LatentDirichletAllocation(n_components=10, max_iter=10,\n",
        "                                learning_method='online',\n",
        "                                learning_offset=50.,\n",
        "                                random_state=0)\n",
        "lda.fit(X)\n",
        "\n",
        "# Print the top 10 words for each topic\n",
        "# feature_names = vectorizer.get_feature_names() bug requires _out() until updated\n",
        "feature_names = vectorizer.get_feature_names_out()\n",
        "for topic_idx, topic in enumerate(lda.components_):\n",
        "    print(\"Topic #%d:\" % topic_idx)\n",
        "    print(\" \".join([feature_names[i]\n",
        "                    for i in topic.argsort()[:-11:-1]]))\n",
        "    print()"
      ]
    },
    {
      "attachments": {},
      "cell_type": "markdown",
      "metadata": {
        "id": "9GUCmiPRDWxS"
      },
      "source": [
        "# Vocabulary generator\n",
        "\n",
        "Another potentially useful feature is generating vocabulary automatically from the Kindle clippings. The code takes all single word clippings and adds them to the 'Kindle_vocab.csv' file."
      ]
    },
    {
      "cell_type": "code",
      "execution_count": 10,
      "metadata": {
        "colab": {
          "base_uri": "https://localhost:8080/"
        },
        "id": "LVkVgHwCDWxS",
        "outputId": "b444ab8f-a28a-4b5a-92c2-1be458e98408",
        "tags": []
      },
      "outputs": [
        {
          "name": "stdout",
          "output_type": "stream",
          "text": [
            "Printed to Kindle_scribe_vocab.csv\n"
          ]
        }
      ],
      "source": [
        "vocabulary = df['quote'].str.strip().str.split(' ').str.len().eq(1)\n",
        "output = df[vocabulary]\n",
        "vocab = output.loc[:,('quote')].str.rstrip('.,;?')\n",
        "df_csv = vocab.to_csv('Kindle_scribe_vocab.csv', index=True)\n",
        "print('Printed to Kindle_scribe_vocab.csv')"
      ]
    },
    {
      "cell_type": "code",
      "execution_count": 11,
      "metadata": {
        "colab": {
          "base_uri": "https://localhost:8080/"
        },
        "id": "uQtcVc-zDWxS",
        "outputId": "16df6b41-7f3d-4bf0-d28f-0c23ecb9ce25"
      },
      "outputs": [
        {
          "name": "stdout",
          "output_type": "stream",
          "text": [
            "31                                                   Scam\n",
            "51                                                 fervid\n",
            "189                                                  Good\n",
            "240                                                      \n",
            "241                                                      \n",
            "268                                            Pointless \n",
            "299                                               .split(\n",
            "478                                   torch.cuda.Stream()\n",
            "500                                             Aegyptius\n",
            "882                                                      \n",
            "1056                                        hyperpathetic\n",
            "1057                                         appositions—\n",
            "1064                                            parataxes\n",
            "1065                                       hypotactically\n",
            "1097                                              piscine\n",
            "1164                                         glass-gazing\n",
            "1166                                        barber-monger\n",
            "1265                                         absquatulate\n",
            "1266                                              zwodder\n",
            "1272    そして、1ブロックあたり100個のスレッド数を指定したので、threadIdx.xは0~99...\n",
            "1329                                              dubious\n",
            "1803                                                   br\n",
            "1804                                                 brea\n",
            "1805                                               breaku\n",
            "1838                                         agglutinated\n",
            "1845                                           questrists\n",
            "1856                                             Desantis\n",
            "2585                                           epideictic\n",
            "Name: quote, dtype: object\n"
          ]
        }
      ],
      "source": [
        "print(vocab)"
      ]
    },
    {
      "cell_type": "code",
      "execution_count": 12,
      "metadata": {
        "colab": {
          "base_uri": "https://localhost:8080/"
        },
        "id": "-aTA6dQcDWxS",
        "outputId": "1690a360-cb5e-42dd-d5ac-1376b076ccb0"
      },
      "outputs": [
        {
          "data": {
            "text/plain": [
              "(912, 2)"
            ]
          },
          "execution_count": 12,
          "metadata": {},
          "output_type": "execute_result"
        }
      ],
      "source": [
        "# loads updated vocabulary file first. If this is the first time because Kindle clips have not been added\n",
        "# or the file is missing then load base vocabulary file from 2DoList.csv\n",
        "# if that file is missing, load blank.csv\n",
        "# using pandas instead of polars\n",
        "\n",
        "try:\n",
        "    main_vocabulary = pl.read_csv(\"Kindle_scribe_vocab_updated.csv\")\n",
        "except Exception as e:\n",
        "    print(\"Kindle_scribe_vocab_updated.csv file not found, loading base file.\")\n",
        "    try:\n",
        "        main_vocabulary = pl.read_csv(\"2DoList.csv\")     # csv vocabulary file created previously\n",
        "    except Exception as e:\n",
        "        main_vocabulary = pl.read_csv(\"blank.csv\")       # empty csv file if no vocabulary files available\n",
        "main_vocabulary.shape"
      ]
    },
    {
      "cell_type": "code",
      "execution_count": 13,
      "metadata": {},
      "outputs": [
        {
          "data": {
            "text/html": [
              "<div><style>\n",
              ".dataframe > thead > tr,\n",
              ".dataframe > tbody > tr {\n",
              "  text-align: right;\n",
              "  white-space: pre-wrap;\n",
              "}\n",
              "</style>\n",
              "<small>shape: (912, 2)</small><table border=\"1\" class=\"dataframe\"><thead><tr><th>WORD</th><th> NOTE</th></tr><tr><td>str</td><td>str</td></tr></thead><tbody><tr><td>&quot;abaddon&quot;</td><td>null</td></tr><tr><td>&quot;abaft&quot;</td><td>null</td></tr><tr><td>&quot;abba&quot;</td><td>null</td></tr><tr><td>&quot;aberglaube&quot;</td><td>null</td></tr><tr><td>&quot;abet&quot;</td><td>null</td></tr><tr><td>&quot;abeyance&quot;</td><td>null</td></tr><tr><td>&quot;abidden&quot;</td><td>null</td></tr><tr><td>&quot;abigail&quot;</td><td>null</td></tr><tr><td>&quot;abiogenesis&quot;</td><td>null</td></tr><tr><td>&quot;ablactation&quot;</td><td>null</td></tr><tr><td>&quot;ablant&quot;</td><td>null</td></tr><tr><td>&quot;ablation&quot;</td><td>null</td></tr><tr><td>&hellip;</td><td>&hellip;</td></tr><tr><td>&quot;barber-monger&quot;</td><td>null</td></tr><tr><td>&quot;absquatulate&quot;</td><td>null</td></tr><tr><td>&quot;zwodder&quot;</td><td>null</td></tr><tr><td>&quot;そして、1ブロックあたり10…</td><td>null</td></tr><tr><td>&quot;dubious&quot;</td><td>null</td></tr><tr><td>&quot;br&quot;</td><td>null</td></tr><tr><td>&quot;brea&quot;</td><td>null</td></tr><tr><td>&quot;breaku&quot;</td><td>null</td></tr><tr><td>&quot;agglutinated&quot;</td><td>null</td></tr><tr><td>&quot;questrists&quot;</td><td>null</td></tr><tr><td>&quot;Desantis&quot;</td><td>null</td></tr><tr><td>&quot;epideictic&quot;</td><td>null</td></tr></tbody></table></div>"
            ],
            "text/plain": [
              "shape: (912, 2)\n",
              "┌──────────────┬───────┐\n",
              "│ WORD         ┆  NOTE │\n",
              "│ ---          ┆ ---   │\n",
              "│ str          ┆ str   │\n",
              "╞══════════════╪═══════╡\n",
              "│ abaddon      ┆ null  │\n",
              "│ abaft        ┆ null  │\n",
              "│ abba         ┆ null  │\n",
              "│ aberglaube   ┆ null  │\n",
              "│ …            ┆ …     │\n",
              "│ agglutinated ┆ null  │\n",
              "│ questrists   ┆ null  │\n",
              "│ Desantis     ┆ null  │\n",
              "│ epideictic   ┆ null  │\n",
              "└──────────────┴───────┘"
            ]
          },
          "execution_count": 13,
          "metadata": {},
          "output_type": "execute_result"
        }
      ],
      "source": [
        "main_vocabulary"
      ]
    },
    {
      "cell_type": "code",
      "execution_count": 14,
      "metadata": {
        "id": "dcsiKbaZDWxT"
      },
      "outputs": [],
      "source": [
        "# make sure index is the same\n",
        "# polars has trouble here, using pandas for now\n",
        "vocab = pl.Series(vocab)\n",
        "vocab.index = np.arange(0, len(vocab) + 0)\n",
        "\n",
        "# object to dataframe\n",
        "vocab_add = pl.DataFrame(vocab)\n",
        "\n",
        "# create same column name\n",
        "vocab_add.columns = ['WORD'] "
      ]
    },
    {
      "cell_type": "code",
      "execution_count": 15,
      "metadata": {},
      "outputs": [
        {
          "data": {
            "text/html": [
              "<div><style>\n",
              ".dataframe > thead > tr,\n",
              ".dataframe > tbody > tr {\n",
              "  text-align: right;\n",
              "  white-space: pre-wrap;\n",
              "}\n",
              "</style>\n",
              "<small>shape: (25, 1)</small><table border=\"1\" class=\"dataframe\"><thead><tr><th>WORD</th></tr><tr><td>str</td></tr></thead><tbody><tr><td>&quot;Scam&quot;</td></tr><tr><td>&quot;fervid&quot;</td></tr><tr><td>&quot;Good&quot;</td></tr><tr><td>&quot;Pointless &quot;</td></tr><tr><td>&quot;.split(&quot;</td></tr><tr><td>&quot;torch.cuda.Str…</td></tr><tr><td>&quot;Aegyptius&quot;</td></tr><tr><td>&quot;hyperpathetic&quot;</td></tr><tr><td>&quot;appositions—&quot;</td></tr><tr><td>&quot;parataxes&quot;</td></tr><tr><td>&quot;hypotactically…</td></tr><tr><td>&quot;piscine&quot;</td></tr><tr><td>&quot;glass-gazing&quot;</td></tr><tr><td>&quot;barber-monger&quot;</td></tr><tr><td>&quot;absquatulate&quot;</td></tr><tr><td>&quot;zwodder&quot;</td></tr><tr><td>&quot;そして、1ブロックあたり10…</td></tr><tr><td>&quot;dubious&quot;</td></tr><tr><td>&quot;br&quot;</td></tr><tr><td>&quot;brea&quot;</td></tr><tr><td>&quot;breaku&quot;</td></tr><tr><td>&quot;agglutinated&quot;</td></tr><tr><td>&quot;questrists&quot;</td></tr><tr><td>&quot;Desantis&quot;</td></tr><tr><td>&quot;epideictic&quot;</td></tr></tbody></table></div>"
            ],
            "text/plain": [
              "shape: (25, 1)\n",
              "┌──────────────┐\n",
              "│ WORD         │\n",
              "│ ---          │\n",
              "│ str          │\n",
              "╞══════════════╡\n",
              "│ Scam         │\n",
              "│ fervid       │\n",
              "│ Good         │\n",
              "│ Pointless    │\n",
              "│ …            │\n",
              "│ agglutinated │\n",
              "│ questrists   │\n",
              "│ Desantis     │\n",
              "│ epideictic   │\n",
              "└──────────────┘"
            ]
          },
          "execution_count": 15,
          "metadata": {},
          "output_type": "execute_result"
        }
      ],
      "source": [
        "# filter for empty entries:\n",
        "#vocab_add = pl.Series(vocab_add)\n",
        "#vocab_add.set(vocab_add.str.lengths() == 0, None)\n",
        "#vocab_add = vocab_add.drop_nulls()\n",
        "vocab_add = vocab_add.filter(pl.col('WORD') != \"\")\n",
        "vocab_add"
      ]
    },
    {
      "cell_type": "code",
      "execution_count": 16,
      "metadata": {},
      "outputs": [
        {
          "data": {
            "text/html": [
              "<div><style>\n",
              ".dataframe > thead > tr,\n",
              ".dataframe > tbody > tr {\n",
              "  text-align: right;\n",
              "  white-space: pre-wrap;\n",
              "}\n",
              "</style>\n",
              "<small>shape: (912, 2)</small><table border=\"1\" class=\"dataframe\"><thead><tr><th>WORD</th><th> NOTE</th></tr><tr><td>str</td><td>str</td></tr></thead><tbody><tr><td>&quot;abaddon&quot;</td><td>null</td></tr><tr><td>&quot;abaft&quot;</td><td>null</td></tr><tr><td>&quot;abba&quot;</td><td>null</td></tr><tr><td>&quot;aberglaube&quot;</td><td>null</td></tr><tr><td>&quot;abet&quot;</td><td>null</td></tr><tr><td>&quot;abeyance&quot;</td><td>null</td></tr><tr><td>&quot;abidden&quot;</td><td>null</td></tr><tr><td>&quot;abigail&quot;</td><td>null</td></tr><tr><td>&quot;abiogenesis&quot;</td><td>null</td></tr><tr><td>&quot;ablactation&quot;</td><td>null</td></tr><tr><td>&quot;ablant&quot;</td><td>null</td></tr><tr><td>&quot;ablation&quot;</td><td>null</td></tr><tr><td>&hellip;</td><td>&hellip;</td></tr><tr><td>&quot;barber-monger&quot;</td><td>null</td></tr><tr><td>&quot;absquatulate&quot;</td><td>null</td></tr><tr><td>&quot;zwodder&quot;</td><td>null</td></tr><tr><td>&quot;そして、1ブロックあたり10…</td><td>null</td></tr><tr><td>&quot;dubious&quot;</td><td>null</td></tr><tr><td>&quot;br&quot;</td><td>null</td></tr><tr><td>&quot;brea&quot;</td><td>null</td></tr><tr><td>&quot;breaku&quot;</td><td>null</td></tr><tr><td>&quot;agglutinated&quot;</td><td>null</td></tr><tr><td>&quot;questrists&quot;</td><td>null</td></tr><tr><td>&quot;Desantis&quot;</td><td>null</td></tr><tr><td>&quot;epideictic&quot;</td><td>null</td></tr></tbody></table></div>"
            ],
            "text/plain": [
              "shape: (912, 2)\n",
              "┌──────────────┬───────┐\n",
              "│ WORD         ┆  NOTE │\n",
              "│ ---          ┆ ---   │\n",
              "│ str          ┆ str   │\n",
              "╞══════════════╪═══════╡\n",
              "│ abaddon      ┆ null  │\n",
              "│ abaft        ┆ null  │\n",
              "│ abba         ┆ null  │\n",
              "│ aberglaube   ┆ null  │\n",
              "│ …            ┆ …     │\n",
              "│ agglutinated ┆ null  │\n",
              "│ questrists   ┆ null  │\n",
              "│ Desantis     ┆ null  │\n",
              "│ epideictic   ┆ null  │\n",
              "└──────────────┴───────┘"
            ]
          },
          "execution_count": 16,
          "metadata": {},
          "output_type": "execute_result"
        }
      ],
      "source": [
        "# filter null entries where WORD is null\n",
        "main_vocabulary = main_vocabulary.filter(pl.col('WORD').is_not_null())\n",
        "main_vocabulary"
      ]
    },
    {
      "cell_type": "code",
      "execution_count": 17,
      "metadata": {},
      "outputs": [
        {
          "name": "stdout",
          "output_type": "stream",
          "text": [
            "Saved new Kindle clipping words to Kindle_scribe_vocab_updated.csv.\n"
          ]
        }
      ],
      "source": [
        "\n",
        "# to vstack, need same column number in two dataframes\n",
        "\n",
        "vocab_add = vocab_add.with_columns([\n",
        "    pl.lit(None).alias(' NOTE').cast(pl.datatypes.Utf8),\n",
        "])\n",
        "new_vocabulary = main_vocabulary.vstack(vocab_add)\n",
        "new_vocabulary\n",
        "# save to csv\n",
        "#df_csv = main_vocabulary.to_csv('Kindle_scribe_vocab_updated.csv', index=False)                # index=False as otherwise adding extra index columns\n",
        "new_vocabulary.write_csv('Kindle_scribe_vocab_updated.csv')\n",
        "print('Saved new Kindle clipping words to Kindle_scribe_vocab_updated.csv.')"
      ]
    },
    {
      "cell_type": "code",
      "execution_count": 18,
      "metadata": {
        "colab": {
          "base_uri": "https://localhost:8080/",
          "height": 52
        },
        "id": "FhEaMkSCDWxT",
        "outputId": "6a00bf3a-fda0-4340-c277-982a2362ca06"
      },
      "outputs": [
        {
          "data": {
            "text/plain": [
              "\"\\nupdated_vocabulary = vocab_add.merge(main_vocabulary, how='left', indicator=True)\\n\\n# selecting rows that are flagged with left_only\\nupdated_vocabulary = updated_vocabulary[updated_vocabulary._merge == 'left_only'].iloc[:,:-1]\\n\\n# update main_vocabulary with only updated words\\nmain_vocabulary = pl.concat([main_vocabulary, updated_vocabulary], ignore_index=True)\\n\\ndisplay(main_vocabulary.shape)     #  checked that it does not add duplicate rows or columns even when repeated\\n\\n# save to csv\\ndf_csv = main_vocabulary.to_csv('Kindle_scribe_vocab_updated.csv', index=False)                # index=False as otherwise adding extra index columns\\nprint('Saved new Kindle clipping words to Kindle_scribe_vocab_updated.csv.')\\n\""
            ]
          },
          "execution_count": 18,
          "metadata": {},
          "output_type": "execute_result"
        }
      ],
      "source": [
        "# update with new words only in pandas\n",
        "# https://stackoverflow.com/questions/52342627/appending-only-new-values-from-a-dataframe-to-another-dataframe-in-pandas\n",
        "\n",
        "'''\n",
        "updated_vocabulary = vocab_add.merge(main_vocabulary, how='left', indicator=True)\n",
        "\n",
        "# selecting rows that are flagged with left_only\n",
        "updated_vocabulary = updated_vocabulary[updated_vocabulary._merge == 'left_only'].iloc[:,:-1]\n",
        "\n",
        "# update main_vocabulary with only updated words\n",
        "main_vocabulary = pl.concat([main_vocabulary, updated_vocabulary], ignore_index=True)\n",
        "\n",
        "display(main_vocabulary.shape)     #  checked that it does not add duplicate rows or columns even when repeated\n",
        "\n",
        "# save to csv\n",
        "df_csv = main_vocabulary.to_csv('Kindle_scribe_vocab_updated.csv', index=False)                # index=False as otherwise adding extra index columns\n",
        "print('Saved new Kindle clipping words to Kindle_scribe_vocab_updated.csv.')\n",
        "'''"
      ]
    },
    {
      "cell_type": "code",
      "execution_count": 19,
      "metadata": {
        "colab": {
          "base_uri": "https://localhost:8080/",
          "height": 1000
        },
        "id": "lq7Sk68XDWxT",
        "outputId": "6d78f0c4-47e5-4c13-9721-e3bb36406f58"
      },
      "outputs": [
        {
          "data": {
            "text/html": [
              "<div><style>\n",
              ".dataframe > thead > tr,\n",
              ".dataframe > tbody > tr {\n",
              "  text-align: right;\n",
              "  white-space: pre-wrap;\n",
              "}\n",
              "</style>\n",
              "<small>shape: (937, 2)</small><table border=\"1\" class=\"dataframe\"><thead><tr><th>WORD</th><th> NOTE</th></tr><tr><td>str</td><td>str</td></tr></thead><tbody><tr><td>&quot;abaddon&quot;</td><td>null</td></tr><tr><td>&quot;abaft&quot;</td><td>null</td></tr><tr><td>&quot;abba&quot;</td><td>null</td></tr><tr><td>&quot;aberglaube&quot;</td><td>null</td></tr><tr><td>&quot;abet&quot;</td><td>null</td></tr><tr><td>&quot;abeyance&quot;</td><td>null</td></tr><tr><td>&quot;abidden&quot;</td><td>null</td></tr><tr><td>&quot;abigail&quot;</td><td>null</td></tr><tr><td>&quot;abiogenesis&quot;</td><td>null</td></tr><tr><td>&quot;ablactation&quot;</td><td>null</td></tr><tr><td>&quot;ablant&quot;</td><td>null</td></tr><tr><td>&quot;ablation&quot;</td><td>null</td></tr><tr><td>&hellip;</td><td>&hellip;</td></tr><tr><td>&quot;barber-monger&quot;</td><td>null</td></tr><tr><td>&quot;absquatulate&quot;</td><td>null</td></tr><tr><td>&quot;zwodder&quot;</td><td>null</td></tr><tr><td>&quot;そして、1ブロックあたり10…</td><td>null</td></tr><tr><td>&quot;dubious&quot;</td><td>null</td></tr><tr><td>&quot;br&quot;</td><td>null</td></tr><tr><td>&quot;brea&quot;</td><td>null</td></tr><tr><td>&quot;breaku&quot;</td><td>null</td></tr><tr><td>&quot;agglutinated&quot;</td><td>null</td></tr><tr><td>&quot;questrists&quot;</td><td>null</td></tr><tr><td>&quot;Desantis&quot;</td><td>null</td></tr><tr><td>&quot;epideictic&quot;</td><td>null</td></tr></tbody></table></div>"
            ],
            "text/plain": [
              "shape: (937, 2)\n",
              "┌──────────────┬───────┐\n",
              "│ WORD         ┆  NOTE │\n",
              "│ ---          ┆ ---   │\n",
              "│ str          ┆ str   │\n",
              "╞══════════════╪═══════╡\n",
              "│ abaddon      ┆ null  │\n",
              "│ abaft        ┆ null  │\n",
              "│ abba         ┆ null  │\n",
              "│ aberglaube   ┆ null  │\n",
              "│ …            ┆ …     │\n",
              "│ agglutinated ┆ null  │\n",
              "│ questrists   ┆ null  │\n",
              "│ Desantis     ┆ null  │\n",
              "│ epideictic   ┆ null  │\n",
              "└──────────────┴───────┘"
            ]
          },
          "execution_count": 19,
          "metadata": {},
          "output_type": "execute_result"
        }
      ],
      "source": [
        "test_vocabulary = pl.read_csv(\"Kindle_scribe_vocab_updated.csv\")\n",
        "test_vocabulary.shape\n",
        "test_vocabulary"
      ]
    },
    {
      "cell_type": "code",
      "execution_count": 20,
      "metadata": {},
      "outputs": [
        {
          "name": "stdout",
          "output_type": "stream",
          "text": [
            "--------Version info---------\n",
            "Polars:               0.20.2\n",
            "Index type:           UInt32\n",
            "Platform:             Linux-6.7.3-200.fc39.x86_64-x86_64-with-glibc2.38\n",
            "Python:               3.10.13 (main, Sep 11 2023, 13:44:35) [GCC 11.2.0]\n",
            "\n",
            "----Optional dependencies----\n",
            "adbc_driver_manager:  <not installed>\n",
            "cloudpickle:          2.2.1\n",
            "connectorx:           <not installed>\n",
            "deltalake:            <not installed>\n",
            "fsspec:               2023.6.0\n",
            "gevent:               <not installed>\n",
            "matplotlib:           3.8.0\n",
            "numpy:                1.26.3\n",
            "openpyxl:             3.0.10\n",
            "pandas:               2.2.0\n",
            "pyarrow:              15.0.0\n",
            "pydantic:             1.10.14\n",
            "pyiceberg:            <not installed>\n",
            "pyxlsb:               <not installed>\n",
            "sqlalchemy:           2.0.21\n",
            "xlsx2csv:             <not installed>\n",
            "xlsxwriter:           <not installed>\n"
          ]
        }
      ],
      "source": [
        "pl.show_versions()"
      ]
    },
    {
      "cell_type": "code",
      "execution_count": null,
      "metadata": {},
      "outputs": [],
      "source": []
    }
  ],
  "metadata": {
    "colab": {
      "provenance": []
    },
    "kernelspec": {
      "display_name": "ml",
      "language": "python",
      "name": "python3"
    },
    "language_info": {
      "codemirror_mode": {
        "name": "ipython",
        "version": 3
      },
      "file_extension": ".py",
      "mimetype": "text/x-python",
      "name": "python",
      "nbconvert_exporter": "python",
      "pygments_lexer": "ipython3",
      "version": "3.10.13"
    },
    "vscode": {
      "interpreter": {
        "hash": "04a7cd95d0a913f50933f30934d48e678cda2a13dfbc0cf815ace72b01972329"
      }
    }
  },
  "nbformat": 4,
  "nbformat_minor": 0
}
